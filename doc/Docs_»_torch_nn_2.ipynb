{
  "nbformat": 4,
  "nbformat_minor": 0,
  "metadata": {
    "colab": {
      "name": "Docs » torch.nn_2.ipynb",
      "version": "0.3.2",
      "provenance": [],
      "collapsed_sections": []
    },
    "kernelspec": {
      "name": "python3",
      "display_name": "Python 3"
    },
    "accelerator": "GPU"
  },
  "cells": [
    {
      "metadata": {
        "id": "ChkodFdU0yIF",
        "colab_type": "text"
      },
      "cell_type": "markdown",
      "source": [
        "https://pytorch.org/docs/stable/nn.html"
      ]
    },
    {
      "metadata": {
        "id": "0dQutTXVUp-k",
        "colab_type": "code",
        "colab": {
          "base_uri": "https://localhost:8080/",
          "height": 411
        },
        "outputId": "ce3609b9-63ea-4141-d017-c333aa0507ef"
      },
      "cell_type": "code",
      "source": [
        "!pip3 install Pillow==4.0.0\n",
        "!pip3 install torch==0.4.0\n",
        "!pip3 install torchvision==0.2.1\n",
        "# !pip install http://download.pytorch.org/whl/cu80/torch-0.3.0.post4-cp36-cp36m-linux_x86_64.whl "
      ],
      "execution_count": 1,
      "outputs": [
        {
          "output_type": "stream",
          "text": [
            "Requirement already satisfied: Pillow==4.0.0 in /usr/local/lib/python3.6/dist-packages (4.0.0)\r\n",
            "Requirement already satisfied: olefile in /usr/local/lib/python3.6/dist-packages (from Pillow==4.0.0) (0.45.1)\n",
            "Collecting torch==0.4.0\n",
            "\u001b[?25l  Downloading https://files.pythonhosted.org/packages/69/43/380514bd9663f1bf708abeb359b8b48d3fabb1c8e95bb3427a980a064c57/torch-0.4.0-cp36-cp36m-manylinux1_x86_64.whl (484.0MB)\n",
            "\u001b[K    100% |████████████████████████████████| 484.0MB 30kB/s \n",
            "tcmalloc: large alloc 1073750016 bytes == 0x5b166000 @  0x7fb9f5fc81c4 0x46d6a4 0x5fcbcc 0x4c494d 0x54f3c4 0x553aaf 0x54e4c8 0x54f4f6 0x553aaf 0x54efc1 0x54f24d 0x553aaf 0x54efc1 0x54f24d 0x553aaf 0x54efc1 0x54f24d 0x551ee0 0x54e4c8 0x54f4f6 0x553aaf 0x54efc1 0x54f24d 0x551ee0 0x54efc1 0x54f24d 0x551ee0 0x54e4c8 0x54f4f6 0x553aaf 0x54e4c8\n",
            "\u001b[?25hInstalling collected packages: torch\n",
            "Successfully installed torch-0.4.0\n",
            "Collecting torchvision==0.2.1\n",
            "\u001b[?25l  Downloading https://files.pythonhosted.org/packages/ca/0d/f00b2885711e08bd71242ebe7b96561e6f6d01fdb4b9dcf4d37e2e13c5e1/torchvision-0.2.1-py2.py3-none-any.whl (54kB)\n",
            "\u001b[K    100% |████████████████████████████████| 61kB 5.1MB/s \n",
            "\u001b[?25hRequirement already satisfied: numpy in /usr/local/lib/python3.6/dist-packages (from torchvision==0.2.1) (1.14.5)\n",
            "Requirement already satisfied: torch in /usr/local/lib/python3.6/dist-packages (from torchvision==0.2.1) (0.4.0)\n",
            "Collecting pillow>=4.1.1 (from torchvision==0.2.1)\n",
            "\u001b[?25l  Downloading https://files.pythonhosted.org/packages/d1/24/f53ff6b61b3d728b90934bddb4f03f8ab584a7f49299bf3bde56e2952612/Pillow-5.2.0-cp36-cp36m-manylinux1_x86_64.whl (2.0MB)\n",
            "\u001b[K    100% |████████████████████████████████| 2.0MB 13.4MB/s \n",
            "\u001b[?25hRequirement already satisfied: six in /usr/local/lib/python3.6/dist-packages (from torchvision==0.2.1) (1.11.0)\n",
            "Installing collected packages: pillow, torchvision\n",
            "  Found existing installation: Pillow 4.0.0\n",
            "    Uninstalling Pillow-4.0.0:\n",
            "      Successfully uninstalled Pillow-4.0.0\n",
            "Successfully installed pillow-5.2.0 torchvision-0.2.1\n"
          ],
          "name": "stdout"
        }
      ]
    },
    {
      "metadata": {
        "id": "hzyWSFwA2TF-",
        "colab_type": "code",
        "colab": {}
      },
      "cell_type": "code",
      "source": [
        "import torch \n",
        "import torchvision\n",
        "import torch.nn as nn\n",
        "import numpy as np\n",
        "import torchvision.transforms as transforms\n",
        "\n",
        "%matplotlib inline\n",
        "import matplotlib.pyplot as plt\n",
        "\n",
        "import numpy as np\n",
        "\n",
        "# Device configuration\n",
        "device = torch.device('cuda' if torch.cuda.is_available() else 'cpu')"
      ],
      "execution_count": 0,
      "outputs": []
    },
    {
      "metadata": {
        "id": "Z5y0bqopu3WR",
        "colab_type": "text"
      },
      "cell_type": "markdown",
      "source": [
        "# 非線形関数（加重和、非線形性）"
      ]
    },
    {
      "metadata": {
        "id": "mbRh-5mHZ6jj",
        "colab_type": "text"
      },
      "cell_type": "markdown",
      "source": [
        "## nn.ELU\n",
        "\n",
        "alpha：デフォルトは1    \n",
        "inplace：Trueの場合は入力値を書き換え。デフォルト：False    \n",
        "\n"
      ]
    },
    {
      "metadata": {
        "id": "CZzp7jmJZF88",
        "colab_type": "text"
      },
      "cell_type": "markdown",
      "source": [
        "【使われてる場所】    \n",
        "\n",
        "\n",
        "BEGAN: Boundary Equilibrium Generative Adversarial Networks    \n",
        "https://arxiv.org/abs/1703.10717    \n",
        "https://github.com/JaeyunKang/BEGAN-pytorch/blob/master/models/began.py#L18"
      ]
    },
    {
      "metadata": {
        "id": "aXxD78IoZ5VF",
        "colab_type": "code",
        "colab": {
          "base_uri": "https://localhost:8080/",
          "height": 286
        },
        "outputId": "ea431eb5-183a-4dce-934d-4caee7005315"
      },
      "cell_type": "code",
      "source": [
        "x = torch.linspace(-6, 6, 200, dtype=torch.float)\n",
        "m = nn.ELU()\n",
        "y = m(x)\n",
        "plt.plot(x.numpy(), y.numpy(), label='')\n",
        "plt.ylim((-6, 6))"
      ],
      "execution_count": 40,
      "outputs": [
        {
          "output_type": "execute_result",
          "data": {
            "text/plain": [
              "(-6, 6)"
            ]
          },
          "metadata": {
            "tags": []
          },
          "execution_count": 40
        },
        {
          "output_type": "display_data",
          "data": {
            "image/png": "[encoded data removed]",
            "text/plain": [
              "<matplotlib.figure.Figure at 0x7f492113d4e0>"
            ]
          },
          "metadata": {
            "tags": []
          }
        }
      ]
    },
    {
      "metadata": {
        "id": "_usVnhdDbJlr",
        "colab_type": "text"
      },
      "cell_type": "markdown",
      "source": [
        "## nn.Hardshrink"
      ]
    },
    {
      "metadata": {
        "id": "pDYRLdaSxt4x",
        "colab_type": "code",
        "colab": {
          "base_uri": "https://localhost:8080/",
          "height": 286
        },
        "outputId": "2ea15b4c-e8c5-4e14-c497-6b0f4bf46b65"
      },
      "cell_type": "code",
      "source": [
        "x = torch.linspace(-6, 6, 200, dtype=torch.float)\n",
        "m = nn.Hardshrink()\n",
        "y = m(x)\n",
        "plt.plot(x.numpy(), y.numpy(), label='')\n",
        "plt.ylim((-6, 6))"
      ],
      "execution_count": 41,
      "outputs": [
        {
          "output_type": "execute_result",
          "data": {
            "text/plain": [
              "(-6, 6)"
            ]
          },
          "metadata": {
            "tags": []
          },
          "execution_count": 41
        },
        {
          "output_type": "display_data",
          "data": {
            "image/png": "[encoded data removed]",
            "text/plain": [
              "<matplotlib.figure.Figure at 0x7f492113d278>"
            ]
          },
          "metadata": {
            "tags": []
          }
        }
      ]
    },
    {
      "metadata": {
        "id": "AXBv6qEVcEGP",
        "colab_type": "text"
      },
      "cell_type": "markdown",
      "source": [
        "## nn.Hardtanh"
      ]
    },
    {
      "metadata": {
        "id": "vk2BeYD1xt0e",
        "colab_type": "code",
        "colab": {
          "base_uri": "https://localhost:8080/",
          "height": 286
        },
        "outputId": "8da60618-46d4-454e-fbb6-8229898d9bcf"
      },
      "cell_type": "code",
      "source": [
        "x = torch.linspace(-6, 6, 200, dtype=torch.float)\n",
        "m = nn.Hardtanh(-2, 2)\n",
        "y = m(x)\n",
        "plt.plot(x.numpy(), y.numpy(), label='')\n",
        "plt.ylim((-6, 6))"
      ],
      "execution_count": 42,
      "outputs": [
        {
          "output_type": "execute_result",
          "data": {
            "text/plain": [
              "(-6, 6)"
            ]
          },
          "metadata": {
            "tags": []
          },
          "execution_count": 42
        },
        {
          "output_type": "display_data",
          "data": {
            "image/png": "[encoded data removed]",
            "text/plain": [
              "<matplotlib.figure.Figure at 0x7f49215cac88>"
            ]
          },
          "metadata": {
            "tags": []
          }
        }
      ]
    },
    {
      "metadata": {
        "id": "15zJL12PegCN",
        "colab_type": "text"
      },
      "cell_type": "markdown",
      "source": [
        "## nn.LeakyReLU\n",
        "\n",
        "negative_slope：負の傾きの角度を制御します。デフォルト：1e-2    \n",
        "inplace：Trueの場合は入力値を書き換え。デフォルト：False     "
      ]
    },
    {
      "metadata": {
        "id": "h445PePcaZkv",
        "colab_type": "text"
      },
      "cell_type": "markdown",
      "source": [
        "【使われてる場所】    \n",
        "\n",
        "\n",
        "dcgan    \n",
        "https://github.com/eriklindernoren/PyTorch-GAN/blob/7ad646dbb755e48887a7a3918ae481317f336cf9/implementations/dcgan/dcgan.py#L55"
      ]
    },
    {
      "metadata": {
        "id": "XapEZTu7wuvI",
        "colab_type": "code",
        "colab": {
          "base_uri": "https://localhost:8080/",
          "height": 286
        },
        "outputId": "8bf55f89-bc6c-4d9a-fc03-fdc81f7ff9df"
      },
      "cell_type": "code",
      "source": [
        "x = torch.linspace(-6, 6, 200, dtype=torch.float)\n",
        "m = nn.LeakyReLU(0.1)\n",
        "y = m(x)\n",
        "plt.plot(x.numpy(), y.numpy(), label='')\n",
        "plt.ylim((-6, 6))"
      ],
      "execution_count": 4,
      "outputs": [
        {
          "output_type": "execute_result",
          "data": {
            "text/plain": [
              "(-6, 6)"
            ]
          },
          "metadata": {
            "tags": []
          },
          "execution_count": 4
        },
        {
          "output_type": "display_data",
          "data": {
            "image/png": "[encoded data removed]",
            "text/plain": [
              "<matplotlib.figure.Figure at 0x7ff3a52f48d0>"
            ]
          },
          "metadata": {
            "tags": []
          }
        }
      ]
    },
    {
      "metadata": {
        "id": "MLNFcSFee84k",
        "colab_type": "text"
      },
      "cell_type": "markdown",
      "source": [
        "## nn.LogSigmoid\n",
        "\n",
        "lossの計算に使う。"
      ]
    },
    {
      "metadata": {
        "id": "Edmh8l3ne5iX",
        "colab_type": "code",
        "colab": {
          "base_uri": "https://localhost:8080/",
          "height": 286
        },
        "outputId": "4f2d3fdc-acb4-4b27-fdbd-e39cd683ee97"
      },
      "cell_type": "code",
      "source": [
        "x = torch.linspace(-6, 6, 200, dtype=torch.float)\n",
        "m = nn.LogSigmoid()\n",
        "y = m(x)\n",
        "plt.plot(x.numpy(), y.numpy(), label='')\n",
        "plt.ylim((-6, 6))"
      ],
      "execution_count": 44,
      "outputs": [
        {
          "output_type": "execute_result",
          "data": {
            "text/plain": [
              "(-6, 6)"
            ]
          },
          "metadata": {
            "tags": []
          },
          "execution_count": 44
        },
        {
          "output_type": "display_data",
          "data": {
            "image/png": "[encoded data removed]",
            "text/plain": [
              "<matplotlib.figure.Figure at 0x7f4921152208>"
            ]
          },
          "metadata": {
            "tags": []
          }
        }
      ]
    },
    {
      "metadata": {
        "id": "dJXoyqjUfNly",
        "colab_type": "text"
      },
      "cell_type": "markdown",
      "source": [
        "## nn.PReLU    \n",
        "num_parameters：学習するaの数。デフォルト：1    \n",
        "init：aの初期値。デフォルト：0.25    \n"
      ]
    },
    {
      "metadata": {
        "id": "hwt0NvjZbn6s",
        "colab_type": "text"
      },
      "cell_type": "markdown",
      "source": [
        "【使われてる場所】  \n",
        "\n",
        "\n",
        "V-Net: Fully Convolutional Neural Networks for Volumetric Medical Image Segmentation    \n",
        "https://arxiv.org/abs/1606.04797\n",
        "https://github.com/faustomilletari/VNet/blob/master/Prototxt/train_noPooling_ResNet_cinque.prototxt#L96    \n",
        "\n",
        "\n",
        "ENet    \n",
        "\n",
        "https://github.com/angeladai/3DMV/blob/2cd70bea3a78187b1a5dc3439b7b56fd4be64b79/3dmv/enet.py#L157"
      ]
    },
    {
      "metadata": {
        "id": "NFB-u8ACe6Lt",
        "colab_type": "code",
        "colab": {
          "base_uri": "https://localhost:8080/",
          "height": 286
        },
        "outputId": "c93cc77b-fce2-411b-b3d3-fb72640ba080"
      },
      "cell_type": "code",
      "source": [
        "x = torch.linspace(-6, 6, 200, dtype=torch.float)\n",
        "m = nn.PReLU()\n",
        "y = m(x)\n",
        "plt.plot(x.data.numpy(), y.data.numpy(), label='')\n",
        "plt.ylim((-6, 6))"
      ],
      "execution_count": 54,
      "outputs": [
        {
          "output_type": "execute_result",
          "data": {
            "text/plain": [
              "(-6, 6)"
            ]
          },
          "metadata": {
            "tags": []
          },
          "execution_count": 54
        },
        {
          "output_type": "display_data",
          "data": {
            "image/png": "[encoded data removed]",
            "text/plain": [
              "<matplotlib.figure.Figure at 0x7f49215466a0>"
            ]
          },
          "metadata": {
            "tags": []
          }
        }
      ]
    },
    {
      "metadata": {
        "id": "_yy7hXCXpXiv",
        "colab_type": "text"
      },
      "cell_type": "markdown",
      "source": [
        "## nn.ReLU\n",
        "\n",
        "inplace：Trueの場合は入力値を書き換え。デフォルト：False    \n"
      ]
    },
    {
      "metadata": {
        "id": "DWy1ru5Le6Yu",
        "colab_type": "code",
        "colab": {
          "base_uri": "https://localhost:8080/",
          "height": 286
        },
        "outputId": "febbc6d2-5e64-4885-8bc6-d93e9b9dc48a"
      },
      "cell_type": "code",
      "source": [
        "x = torch.linspace(-6, 6, 200, dtype=torch.float)\n",
        "m = nn.ReLU()\n",
        "y = m(x)\n",
        "plt.plot(x.numpy(), y.numpy(), label='')\n",
        "plt.ylim((-6, 6))"
      ],
      "execution_count": 56,
      "outputs": [
        {
          "output_type": "execute_result",
          "data": {
            "text/plain": [
              "(-6, 6)"
            ]
          },
          "metadata": {
            "tags": []
          },
          "execution_count": 56
        },
        {
          "output_type": "display_data",
          "data": {
            "image/png": "[encoded data removed]",
            "text/plain": [
              "<matplotlib.figure.Figure at 0x7f4921520dd8>"
            ]
          },
          "metadata": {
            "tags": []
          }
        }
      ]
    },
    {
      "metadata": {
        "id": "Tq0NPeiRpi6Z",
        "colab_type": "text"
      },
      "cell_type": "markdown",
      "source": [
        "## nn.ReLU6"
      ]
    },
    {
      "metadata": {
        "id": "JZlEmFdfe5fs",
        "colab_type": "code",
        "colab": {
          "base_uri": "https://localhost:8080/",
          "height": 282
        },
        "outputId": "7c644bcb-db7e-420f-c11c-0de2374f26b4"
      },
      "cell_type": "code",
      "source": [
        "x = torch.linspace(-7, 7, 200, dtype=torch.float)\n",
        "m = nn.ReLU6()\n",
        "y = m(x)\n",
        "plt.plot(x.numpy(), y.numpy(), label='')\n",
        "plt.ylim((-7, 7))"
      ],
      "execution_count": 77,
      "outputs": [
        {
          "output_type": "execute_result",
          "data": {
            "text/plain": [
              "(-7, 7)"
            ]
          },
          "metadata": {
            "tags": []
          },
          "execution_count": 77
        },
        {
          "output_type": "display_data",
          "data": {
            "image/png": "[encoded data removed]",
            "text/plain": [
              "<matplotlib.figure.Figure at 0x7f48d55c6ac8>"
            ]
          },
          "metadata": {
            "tags": []
          }
        }
      ]
    },
    {
      "metadata": {
        "id": "X3Yj1BetpuN3",
        "colab_type": "text"
      },
      "cell_type": "markdown",
      "source": [
        "## nn.RReLU"
      ]
    },
    {
      "metadata": {
        "id": "Su7SLwHLe5cx",
        "colab_type": "code",
        "colab": {
          "base_uri": "https://localhost:8080/",
          "height": 286
        },
        "outputId": "77152594-50d2-4775-f45d-29b2f40ef48b"
      },
      "cell_type": "code",
      "source": [
        "x = torch.linspace(-6, 6, 200, dtype=torch.float)\n",
        "m = nn.RReLU(0.1, 0.3)\n",
        "y = m(x)\n",
        "plt.plot(x.numpy(), y.numpy(), label='')\n",
        "plt.ylim((-6, 6))"
      ],
      "execution_count": 79,
      "outputs": [
        {
          "output_type": "execute_result",
          "data": {
            "text/plain": [
              "(-6, 6)"
            ]
          },
          "metadata": {
            "tags": []
          },
          "execution_count": 79
        },
        {
          "output_type": "display_data",
          "data": {
            "image/png": "[encoded data removed]",
            "text/plain": [
              "<matplotlib.figure.Figure at 0x7f49214147b8>"
            ]
          },
          "metadata": {
            "tags": []
          }
        }
      ]
    },
    {
      "metadata": {
        "id": "NQ8BybXSp6GI",
        "colab_type": "text"
      },
      "cell_type": "markdown",
      "source": [
        "## nn.SELU\n",
        "\n",
        "inplace：Trueの場合は入力値を書き換え。デフォルト：False    "
      ]
    },
    {
      "metadata": {
        "id": "lZBbA_kjqZFS",
        "colab_type": "text"
      },
      "cell_type": "markdown",
      "source": [
        "【使われてる場所】    \n",
        "\n",
        "Self-Normalizing Neural Networks\n"
      ]
    },
    {
      "metadata": {
        "id": "UGVHOi3te5ZH",
        "colab_type": "code",
        "colab": {
          "base_uri": "https://localhost:8080/",
          "height": 286
        },
        "outputId": "da98a01d-435e-4414-d630-eb0eea44fb5c"
      },
      "cell_type": "code",
      "source": [
        "x = torch.linspace(-6, 6, 200, dtype=torch.float)\n",
        "m = nn.SELU()\n",
        "y = m(x)\n",
        "plt.plot(x.numpy(), y.numpy(), label='')\n",
        "plt.ylim((-6, 6))"
      ],
      "execution_count": 80,
      "outputs": [
        {
          "output_type": "execute_result",
          "data": {
            "text/plain": [
              "(-6, 6)"
            ]
          },
          "metadata": {
            "tags": []
          },
          "execution_count": 80
        },
        {
          "output_type": "display_data",
          "data": {
            "image/png": "[encoded data removed]",
            "text/plain": [
              "<matplotlib.figure.Figure at 0x7f4921412eb8>"
            ]
          },
          "metadata": {
            "tags": []
          }
        }
      ]
    },
    {
      "metadata": {
        "id": "Bq2dAgzyqEaO",
        "colab_type": "text"
      },
      "cell_type": "markdown",
      "source": [
        "## nn.Sigmoid"
      ]
    },
    {
      "metadata": {
        "id": "ui5bbrzPe5Vy",
        "colab_type": "code",
        "colab": {
          "base_uri": "https://localhost:8080/",
          "height": 286
        },
        "outputId": "81a14990-90d4-470f-dcbd-659a31837322"
      },
      "cell_type": "code",
      "source": [
        "x = torch.linspace(-10, 10, 200, dtype=torch.float)\n",
        "m = nn.Sigmoid()\n",
        "y = m(x)\n",
        "plt.plot(x.numpy(), y.numpy(), label='')\n",
        "plt.ylim((0, 1))"
      ],
      "execution_count": 104,
      "outputs": [
        {
          "output_type": "execute_result",
          "data": {
            "text/plain": [
              "(0, 1)"
            ]
          },
          "metadata": {
            "tags": []
          },
          "execution_count": 104
        },
        {
          "output_type": "display_data",
          "data": {
            "image/png": "[encoded data removed]",
            "text/plain": [
              "<matplotlib.figure.Figure at 0x7f48d59343c8>"
            ]
          },
          "metadata": {
            "tags": []
          }
        }
      ]
    },
    {
      "metadata": {
        "id": "6snOq-XOqPA7",
        "colab_type": "text"
      },
      "cell_type": "markdown",
      "source": [
        "## nn.Softplus\n",
        "\n",
        "beta：デフォルトは１    \n",
        "threshold：これを超える値は線形関数に戻ります。デフォルト：20    \n"
      ]
    },
    {
      "metadata": {
        "id": "tX40eeNbqNIO",
        "colab_type": "code",
        "colab": {
          "base_uri": "https://localhost:8080/",
          "height": 286
        },
        "outputId": "75f0c13d-77ad-4e5a-9898-dd5ccc5a18b9"
      },
      "cell_type": "code",
      "source": [
        "x = torch.linspace(-6, 6, 200, dtype=torch.float)\n",
        "m = nn.Softplus()\n",
        "y = m(x)\n",
        "plt.plot(x.numpy(), y.numpy(), label='')\n",
        "plt.ylim((-6, 6))"
      ],
      "execution_count": 106,
      "outputs": [
        {
          "output_type": "execute_result",
          "data": {
            "text/plain": [
              "(-6, 6)"
            ]
          },
          "metadata": {
            "tags": []
          },
          "execution_count": 106
        },
        {
          "output_type": "display_data",
          "data": {
            "image/png": "[encoded data removed]",
            "text/plain": [
              "<matplotlib.figure.Figure at 0x7f4921351278>"
            ]
          },
          "metadata": {
            "tags": []
          }
        }
      ]
    },
    {
      "metadata": {
        "id": "h2kurtlmq4qX",
        "colab_type": "code",
        "colab": {
          "base_uri": "https://localhost:8080/",
          "height": 286
        },
        "outputId": "61f8ab9c-b0a1-4cf8-abe3-c81dc16d3af2"
      },
      "cell_type": "code",
      "source": [
        "#betaを0.4に\n",
        "x = torch.linspace(-6, 6, 200, dtype=torch.float)\n",
        "m = nn.Softplus(beta=0.4)\n",
        "y = m(x)\n",
        "plt.plot(x.numpy(), y.numpy(), label='')\n",
        "plt.ylim((-6, 6))"
      ],
      "execution_count": 5,
      "outputs": [
        {
          "output_type": "execute_result",
          "data": {
            "text/plain": [
              "(-6, 6)"
            ]
          },
          "metadata": {
            "tags": []
          },
          "execution_count": 5
        },
        {
          "output_type": "display_data",
          "data": {
            "image/png": "[encoded data removed]",
            "text/plain": [
              "<matplotlib.figure.Figure at 0x7ff3a21cff60>"
            ]
          },
          "metadata": {
            "tags": []
          }
        }
      ]
    },
    {
      "metadata": {
        "id": "L9afCKtWU_Cd",
        "colab_type": "code",
        "colab": {
          "base_uri": "https://localhost:8080/",
          "height": 286
        },
        "outputId": "0c7e5953-736b-4dea-fc14-eb3dd31a7a15"
      },
      "cell_type": "code",
      "source": [
        "#betaを2に\n",
        "x = torch.linspace(-6, 6, 200, dtype=torch.float)\n",
        "m = nn.Softplus(beta=2)\n",
        "y = m(x)\n",
        "plt.plot(x.numpy(), y.numpy(), label='')\n",
        "plt.ylim((-6, 6))"
      ],
      "execution_count": 6,
      "outputs": [
        {
          "output_type": "execute_result",
          "data": {
            "text/plain": [
              "(-6, 6)"
            ]
          },
          "metadata": {
            "tags": []
          },
          "execution_count": 6
        },
        {
          "output_type": "display_data",
          "data": {
            "image/png": "[encoded data removed]",
            "text/plain": [
              "<matplotlib.figure.Figure at 0x7ff3a21cf9e8>"
            ]
          },
          "metadata": {
            "tags": []
          }
        }
      ]
    },
    {
      "metadata": {
        "id": "c1GBztKMqWxJ",
        "colab_type": "text"
      },
      "cell_type": "markdown",
      "source": [
        "## nn.Softshrink"
      ]
    },
    {
      "metadata": {
        "id": "DLaCiw7PqNEA",
        "colab_type": "code",
        "colab": {
          "base_uri": "https://localhost:8080/",
          "height": 286
        },
        "outputId": "5697b26a-6f70-42da-f8f3-8ebc9507e98b"
      },
      "cell_type": "code",
      "source": [
        "x = torch.linspace(-6, 6, 200, dtype=torch.float)\n",
        "m = nn.Softshrink()\n",
        "y = m(x)\n",
        "plt.plot(x.numpy(), y.numpy(), label='')\n",
        "plt.ylim((-6, 6))"
      ],
      "execution_count": 107,
      "outputs": [
        {
          "output_type": "execute_result",
          "data": {
            "text/plain": [
              "(-6, 6)"
            ]
          },
          "metadata": {
            "tags": []
          },
          "execution_count": 107
        },
        {
          "output_type": "display_data",
          "data": {
            "image/png": "[encoded data removed]",
            "text/plain": [
              "<matplotlib.figure.Figure at 0x7f4921351be0>"
            ]
          },
          "metadata": {
            "tags": []
          }
        }
      ]
    },
    {
      "metadata": {
        "id": "9iXxWH38qgy5",
        "colab_type": "text"
      },
      "cell_type": "markdown",
      "source": [
        "## nn.Softsign"
      ]
    },
    {
      "metadata": {
        "id": "iBXZHoYhqM__",
        "colab_type": "code",
        "colab": {
          "base_uri": "https://localhost:8080/",
          "height": 286
        },
        "outputId": "79b1145b-c82a-444a-de31-ef00c116cdbd"
      },
      "cell_type": "code",
      "source": [
        "x = torch.linspace(-6, 6, 200, dtype=torch.float)\n",
        "m = nn.Softsign()\n",
        "y = m(x)\n",
        "plt.plot(x.numpy(), y.numpy(), label='')\n",
        "plt.ylim((-1, 1))"
      ],
      "execution_count": 109,
      "outputs": [
        {
          "output_type": "execute_result",
          "data": {
            "text/plain": [
              "(-1, 1)"
            ]
          },
          "metadata": {
            "tags": []
          },
          "execution_count": 109
        },
        {
          "output_type": "display_data",
          "data": {
            "image/png": "[encoded data removed]",
            "text/plain": [
              "<matplotlib.figure.Figure at 0x7f492129b208>"
            ]
          },
          "metadata": {
            "tags": []
          }
        }
      ]
    },
    {
      "metadata": {
        "id": "Cj-7W_AZqoZk",
        "colab_type": "text"
      },
      "cell_type": "markdown",
      "source": [
        "## nn.Tanh"
      ]
    },
    {
      "metadata": {
        "id": "yI12z1Lzwurw",
        "colab_type": "code",
        "colab": {
          "base_uri": "https://localhost:8080/",
          "height": 286
        },
        "outputId": "4acbfdbd-896c-4027-a1ef-f757ef992172"
      },
      "cell_type": "code",
      "source": [
        "x = torch.linspace(-6, 6, 200, dtype=torch.float)\n",
        "m = nn.Tanh()\n",
        "y = m(x)\n",
        "plt.plot(x.numpy(), y.numpy(), label='')\n",
        "plt.ylim((-1, 1))"
      ],
      "execution_count": 110,
      "outputs": [
        {
          "output_type": "execute_result",
          "data": {
            "text/plain": [
              "(-1, 1)"
            ]
          },
          "metadata": {
            "tags": []
          },
          "execution_count": 110
        },
        {
          "output_type": "display_data",
          "data": {
            "image/png": "[encoded data removed]",
            "text/plain": [
              "<matplotlib.figure.Figure at 0x7f48d5774c18>"
            ]
          },
          "metadata": {
            "tags": []
          }
        }
      ]
    },
    {
      "metadata": {
        "id": "-LLcmzG-rJUV",
        "colab_type": "text"
      },
      "cell_type": "markdown",
      "source": [
        "## nn.Tanhshrink"
      ]
    },
    {
      "metadata": {
        "id": "MkfCISMQqr-l",
        "colab_type": "code",
        "colab": {
          "base_uri": "https://localhost:8080/",
          "height": 286
        },
        "outputId": "fcb126b5-52b8-4318-a5e8-2dce761cc964"
      },
      "cell_type": "code",
      "source": [
        "x = torch.linspace(-6, 6, 200, dtype=torch.float)\n",
        "m = nn.Tanhshrink()\n",
        "y = m(x)\n",
        "plt.plot(x.numpy(), y.numpy(), label='')\n",
        "plt.ylim((-6, 6))"
      ],
      "execution_count": 111,
      "outputs": [
        {
          "output_type": "execute_result",
          "data": {
            "text/plain": [
              "(-6, 6)"
            ]
          },
          "metadata": {
            "tags": []
          },
          "execution_count": 111
        },
        {
          "output_type": "display_data",
          "data": {
            "image/png": "[encoded data removed]",
            "text/plain": [
              "<matplotlib.figure.Figure at 0x7f492159be80>"
            ]
          },
          "metadata": {
            "tags": []
          }
        }
      ]
    },
    {
      "metadata": {
        "id": "kFXOvOKVskXk",
        "colab_type": "text"
      },
      "cell_type": "markdown",
      "source": [
        "## nn.Threshold"
      ]
    },
    {
      "metadata": {
        "id": "RLEAgLKoqseg",
        "colab_type": "code",
        "colab": {
          "base_uri": "https://localhost:8080/",
          "height": 286
        },
        "outputId": "e35eee50-5421-4371-f7fe-05e50450cb73"
      },
      "cell_type": "code",
      "source": [
        "x = torch.linspace(-10, 10, 200, dtype=torch.float)\n",
        "m = nn.Threshold(1, 4)\n",
        "y = m(x)\n",
        "plt.plot(x.numpy(), y.numpy(), label='')\n",
        "plt.ylim((-10, 10))"
      ],
      "execution_count": 120,
      "outputs": [
        {
          "output_type": "execute_result",
          "data": {
            "text/plain": [
              "(-10, 10)"
            ]
          },
          "metadata": {
            "tags": []
          },
          "execution_count": 120
        },
        {
          "output_type": "display_data",
          "data": {
            "image/png": "[encoded data removed]",
            "text/plain": [
              "<matplotlib.figure.Figure at 0x7f49216857b8>"
            ]
          },
          "metadata": {
            "tags": []
          }
        }
      ]
    },
    {
      "metadata": {
        "id": "wh7fFW-Js5bS",
        "colab_type": "text"
      },
      "cell_type": "markdown",
      "source": [
        "## nn.Softmin"
      ]
    },
    {
      "metadata": {
        "id": "py1MAhgRqvBu",
        "colab_type": "code",
        "colab": {
          "base_uri": "https://localhost:8080/",
          "height": 282
        },
        "outputId": "1b6c2475-7f91-4fd7-f8ba-70a77d4648f6"
      },
      "cell_type": "code",
      "source": [
        "x = torch.linspace(-6, 6, 200, dtype=torch.float)\n",
        "m = nn.Softmin(dim=0)\n",
        "y = m(x)\n",
        "plt.plot(x.numpy(), y.numpy(), label='')"
      ],
      "execution_count": 130,
      "outputs": [
        {
          "output_type": "execute_result",
          "data": {
            "text/plain": [
              "[<matplotlib.lines.Line2D at 0x7f49247867b8>]"
            ]
          },
          "metadata": {
            "tags": []
          },
          "execution_count": 130
        },
        {
          "output_type": "display_data",
          "data": {
            "image/png": "[encoded data removed]",
            "text/plain": [
              "<matplotlib.figure.Figure at 0x7f492124eda0>"
            ]
          },
          "metadata": {
            "tags": []
          }
        }
      ]
    },
    {
      "metadata": {
        "id": "CaqoO1S-tDky",
        "colab_type": "text"
      },
      "cell_type": "markdown",
      "source": [
        "## nn.Softmax\n",
        "\n",
        "dim：Softmaxが計算される次元です（dimに沿った各スライスは合計1になります）。    \n",
        "\n",
        "クラス分類用の損失関数のNLLLossはsoftmaxとlogの値を想定しているため直接使用できない。その場合はnn.LogSoftmaxを使用した方が高速です。"
      ]
    },
    {
      "metadata": {
        "id": "dYPNimzGe5Rl",
        "colab_type": "code",
        "colab": {
          "base_uri": "https://localhost:8080/",
          "height": 282
        },
        "outputId": "f9e44aa0-e05e-46dc-c1d4-a3180a575cbb"
      },
      "cell_type": "code",
      "source": [
        "x = torch.linspace(-6, 6, 200, dtype=torch.float)\n",
        "m = nn.Softmax(dim=0)\n",
        "y = m(x)\n",
        "plt.plot(x.numpy(), y.numpy(), label='')"
      ],
      "execution_count": 131,
      "outputs": [
        {
          "output_type": "execute_result",
          "data": {
            "text/plain": [
              "[<matplotlib.lines.Line2D at 0x7f49216cca20>]"
            ]
          },
          "metadata": {
            "tags": []
          },
          "execution_count": 131
        },
        {
          "output_type": "display_data",
          "data": {
            "image/png": "[encoded data removed]",
            "text/plain": [
              "<matplotlib.figure.Figure at 0x7f4923f359e8>"
            ]
          },
          "metadata": {
            "tags": []
          }
        }
      ]
    },
    {
      "metadata": {
        "id": "LhGxK5KPtKMv",
        "colab_type": "text"
      },
      "cell_type": "markdown",
      "source": [
        "## nn.Softmax2d"
      ]
    },
    {
      "metadata": {
        "id": "UaM4G7NwqsaF",
        "colab_type": "code",
        "colab": {
          "base_uri": "https://localhost:8080/",
          "height": 477
        },
        "outputId": "f2fb1d5b-451d-4501-a734-e8cfdb1b885c"
      },
      "cell_type": "code",
      "source": [
        "x = torch.linspace(-6, 6, 200, dtype=torch.float)\n",
        "m = nn.Softmax2d()\n",
        "y = m(x)\n",
        "plt.plot(x.numpy(), y.numpy(), label='')"
      ],
      "execution_count": 132,
      "outputs": [
        {
          "output_type": "error",
          "ename": "AssertionError",
          "evalue": "ignored",
          "traceback": [
            "\u001b[0;31m---------------------------------------------------------------------------\u001b[0m",
            "\u001b[0;31mAssertionError\u001b[0m                            Traceback (most recent call last)",
            "\u001b[0;32m<ipython-input-132-9ba9691bdc2a>\u001b[0m in \u001b[0;36m<module>\u001b[0;34m()\u001b[0m\n\u001b[1;32m      1\u001b[0m \u001b[0mx\u001b[0m \u001b[0;34m=\u001b[0m \u001b[0mtorch\u001b[0m\u001b[0;34m.\u001b[0m\u001b[0mlinspace\u001b[0m\u001b[0;34m(\u001b[0m\u001b[0;34m-\u001b[0m\u001b[0;36m6\u001b[0m\u001b[0;34m,\u001b[0m \u001b[0;36m6\u001b[0m\u001b[0;34m,\u001b[0m \u001b[0;36m200\u001b[0m\u001b[0;34m,\u001b[0m \u001b[0mdtype\u001b[0m\u001b[0;34m=\u001b[0m\u001b[0mtorch\u001b[0m\u001b[0;34m.\u001b[0m\u001b[0mfloat\u001b[0m\u001b[0;34m)\u001b[0m\u001b[0;34m\u001b[0m\u001b[0m\n\u001b[1;32m      2\u001b[0m \u001b[0mm\u001b[0m \u001b[0;34m=\u001b[0m \u001b[0mnn\u001b[0m\u001b[0;34m.\u001b[0m\u001b[0mSoftmax2d\u001b[0m\u001b[0;34m(\u001b[0m\u001b[0;34m)\u001b[0m\u001b[0;34m\u001b[0m\u001b[0m\n\u001b[0;32m----> 3\u001b[0;31m \u001b[0my\u001b[0m \u001b[0;34m=\u001b[0m \u001b[0mm\u001b[0m\u001b[0;34m(\u001b[0m\u001b[0mx\u001b[0m\u001b[0;34m)\u001b[0m\u001b[0;34m\u001b[0m\u001b[0m\n\u001b[0m\u001b[1;32m      4\u001b[0m \u001b[0mplt\u001b[0m\u001b[0;34m.\u001b[0m\u001b[0mplot\u001b[0m\u001b[0;34m(\u001b[0m\u001b[0mx\u001b[0m\u001b[0;34m.\u001b[0m\u001b[0mnumpy\u001b[0m\u001b[0;34m(\u001b[0m\u001b[0;34m)\u001b[0m\u001b[0;34m,\u001b[0m \u001b[0my\u001b[0m\u001b[0;34m.\u001b[0m\u001b[0mnumpy\u001b[0m\u001b[0;34m(\u001b[0m\u001b[0;34m)\u001b[0m\u001b[0;34m,\u001b[0m \u001b[0mlabel\u001b[0m\u001b[0;34m=\u001b[0m\u001b[0;34m''\u001b[0m\u001b[0;34m)\u001b[0m\u001b[0;34m\u001b[0m\u001b[0m\n",
            "\u001b[0;32m/usr/local/lib/python3.6/dist-packages/torch/nn/modules/module.py\u001b[0m in \u001b[0;36m__call__\u001b[0;34m(self, *input, **kwargs)\u001b[0m\n\u001b[1;32m    489\u001b[0m             \u001b[0mresult\u001b[0m \u001b[0;34m=\u001b[0m \u001b[0mself\u001b[0m\u001b[0;34m.\u001b[0m\u001b[0m_slow_forward\u001b[0m\u001b[0;34m(\u001b[0m\u001b[0;34m*\u001b[0m\u001b[0minput\u001b[0m\u001b[0;34m,\u001b[0m \u001b[0;34m**\u001b[0m\u001b[0mkwargs\u001b[0m\u001b[0;34m)\u001b[0m\u001b[0;34m\u001b[0m\u001b[0m\n\u001b[1;32m    490\u001b[0m         \u001b[0;32melse\u001b[0m\u001b[0;34m:\u001b[0m\u001b[0;34m\u001b[0m\u001b[0m\n\u001b[0;32m--> 491\u001b[0;31m             \u001b[0mresult\u001b[0m \u001b[0;34m=\u001b[0m \u001b[0mself\u001b[0m\u001b[0;34m.\u001b[0m\u001b[0mforward\u001b[0m\u001b[0;34m(\u001b[0m\u001b[0;34m*\u001b[0m\u001b[0minput\u001b[0m\u001b[0;34m,\u001b[0m \u001b[0;34m**\u001b[0m\u001b[0mkwargs\u001b[0m\u001b[0;34m)\u001b[0m\u001b[0;34m\u001b[0m\u001b[0m\n\u001b[0m\u001b[1;32m    492\u001b[0m         \u001b[0;32mfor\u001b[0m \u001b[0mhook\u001b[0m \u001b[0;32min\u001b[0m \u001b[0mself\u001b[0m\u001b[0;34m.\u001b[0m\u001b[0m_forward_hooks\u001b[0m\u001b[0;34m.\u001b[0m\u001b[0mvalues\u001b[0m\u001b[0;34m(\u001b[0m\u001b[0;34m)\u001b[0m\u001b[0;34m:\u001b[0m\u001b[0;34m\u001b[0m\u001b[0m\n\u001b[1;32m    493\u001b[0m             \u001b[0mhook_result\u001b[0m \u001b[0;34m=\u001b[0m \u001b[0mhook\u001b[0m\u001b[0;34m(\u001b[0m\u001b[0mself\u001b[0m\u001b[0;34m,\u001b[0m \u001b[0minput\u001b[0m\u001b[0;34m,\u001b[0m \u001b[0mresult\u001b[0m\u001b[0;34m)\u001b[0m\u001b[0;34m\u001b[0m\u001b[0m\n",
            "\u001b[0;32m/usr/local/lib/python3.6/dist-packages/torch/nn/modules/activation.py\u001b[0m in \u001b[0;36mforward\u001b[0;34m(self, input)\u001b[0m\n\u001b[1;32m    745\u001b[0m \u001b[0;34m\u001b[0m\u001b[0m\n\u001b[1;32m    746\u001b[0m     \u001b[0;32mdef\u001b[0m \u001b[0mforward\u001b[0m\u001b[0;34m(\u001b[0m\u001b[0mself\u001b[0m\u001b[0;34m,\u001b[0m \u001b[0minput\u001b[0m\u001b[0;34m)\u001b[0m\u001b[0;34m:\u001b[0m\u001b[0;34m\u001b[0m\u001b[0m\n\u001b[0;32m--> 747\u001b[0;31m         \u001b[0;32massert\u001b[0m \u001b[0minput\u001b[0m\u001b[0;34m.\u001b[0m\u001b[0mdim\u001b[0m\u001b[0;34m(\u001b[0m\u001b[0;34m)\u001b[0m \u001b[0;34m==\u001b[0m \u001b[0;36m4\u001b[0m\u001b[0;34m,\u001b[0m \u001b[0;34m'Softmax2d requires a 4D tensor as input'\u001b[0m\u001b[0;34m\u001b[0m\u001b[0m\n\u001b[0m\u001b[1;32m    748\u001b[0m         \u001b[0;32mreturn\u001b[0m \u001b[0mF\u001b[0m\u001b[0;34m.\u001b[0m\u001b[0msoftmax\u001b[0m\u001b[0;34m(\u001b[0m\u001b[0minput\u001b[0m\u001b[0;34m,\u001b[0m \u001b[0;36m1\u001b[0m\u001b[0;34m,\u001b[0m \u001b[0m_stacklevel\u001b[0m\u001b[0;34m=\u001b[0m\u001b[0;36m5\u001b[0m\u001b[0;34m)\u001b[0m\u001b[0;34m\u001b[0m\u001b[0m\n\u001b[1;32m    749\u001b[0m \u001b[0;34m\u001b[0m\u001b[0m\n",
            "\u001b[0;31mAssertionError\u001b[0m: Softmax2d requires a 4D tensor as input"
          ]
        }
      ]
    },
    {
      "metadata": {
        "id": "oElFXgzFtSiu",
        "colab_type": "text"
      },
      "cell_type": "markdown",
      "source": [
        "## nn.LogSoftmax\n",
        "\n",
        "Softmaxにlog関数がついてる。\n",
        "\n",
        "\n",
        "dim：Softmaxが計算される次元です（dimに沿った各スライスは合計1になります）。    \n",
        "\n",
        "\n",
        "効率のために使ってると書いてある。    \n",
        "https://discuss.pytorch.org/t/what-is-the-difference-between-log-softmax-and-softmax/11801    \n"
      ]
    },
    {
      "metadata": {
        "id": "N_kE42WKqsXE",
        "colab_type": "code",
        "colab": {}
      },
      "cell_type": "code",
      "source": [
        "x = torch.linspace(0, 1, 200, dtype=torch.float)\n",
        "m = nn.LogSoftmax(dim=0)\n",
        "y = m(x)\n",
        "# plt.plot(x.numpy(), y.numpy(), label='')"
      ],
      "execution_count": 0,
      "outputs": []
    },
    {
      "metadata": {
        "id": "gFQWNlIxtduM",
        "colab_type": "text"
      },
      "cell_type": "markdown",
      "source": [
        "# 正規化レイヤー"
      ]
    },
    {
      "metadata": {
        "id": "9psCwQzntqXH",
        "colab_type": "text"
      },
      "cell_type": "markdown",
      "source": [
        "## 1次元バッチ正規化\n",
        "\n",
        "バッチ正規化はチャンネル次元で実行され、(バッチ、L)スライスの統計を計算する。\n",
        "γおよびβは学習のパラメータ。    \n",
        "デフォルトではtrack_running_stats=Trueなので学習中に平均と分散の推定値を保持し続け、評価の際に正規化に使用される。    \n",
        "track_running_stats=Falseの場合は推定値の保持はされずに、評価時にバッチ統計値を計算する。\n",
        "\n",
        "\n",
        "\n",
        "```\n",
        "class torch.nn.BatchNorm1d(num_features, eps=1e-05, momentum=0.1, affine=True, track_running_stats=True)\n",
        "```\n",
        "\n",
        "num_features：（バッチ数、１次元配列の長さ）か（バッチ数、チャンネル数、１次元配列の長さ）の入力      \n",
        "eps：数値安定性のために分母に加えられた値。デフォルト：1e-5    \n",
        "momentum：meanおよびvar計算に使用される値。累積移動平均（つまり単純平均）の場合はNoneに設定できます。デフォルト：0.1    \n",
        "affine：これをTrueに設定すると、このモジュールは学習可能なアフィンパラメータを持ちます。デフォルト：True    \n",
        "track_running_stats：Trueに設定されている場合は実行中の平均と分散を追跡し、Falseに設定すると、このような統計は追跡されずトレーニングモードと評価モードの両方で常にバッチ統計が使用されます。デフォルト：True    \n",
        "\n",
        "\n"
      ]
    },
    {
      "metadata": {
        "id": "xVLT5MOwqsTs",
        "colab_type": "code",
        "colab": {
          "base_uri": "https://localhost:8080/",
          "height": 34
        },
        "outputId": "8fef23fc-835f-4c82-df1b-ec9807de3c25"
      },
      "cell_type": "code",
      "source": [
        "# 学習可能なパラメータ\n",
        "m = nn.BatchNorm1d(100)\n",
        "# 学習可能なパラメータがない場合\n",
        "m = nn.BatchNorm1d(100, affine=False)\n",
        "input = torch.randn(20, 100)\n",
        "output = m(input)\n",
        "print(output.size())"
      ],
      "execution_count": 135,
      "outputs": [
        {
          "output_type": "stream",
          "text": [
            "torch.Size([20, 100])\n"
          ],
          "name": "stdout"
        }
      ]
    },
    {
      "metadata": {
        "id": "_ucKGxxMzhai",
        "colab_type": "code",
        "colab": {
          "base_uri": "https://localhost:8080/",
          "height": 596
        },
        "outputId": "1cda421f-37c7-472d-bf4f-8090c7cee6f0"
      },
      "cell_type": "code",
      "source": [
        "#momentumをNone\n",
        "m = nn.BatchNorm1d(100, momentum=None)　#あれ。。。\n",
        "input = torch.randn(20, 100)\n",
        "output = m(input)\n",
        "print(output.size())"
      ],
      "execution_count": 2,
      "outputs": [
        {
          "output_type": "error",
          "ename": "TypeError",
          "evalue": "ignored",
          "traceback": [
            "\u001b[0;31m---------------------------------------------------------------------------\u001b[0m",
            "\u001b[0;31mTypeError\u001b[0m                                 Traceback (most recent call last)",
            "\u001b[0;32m<ipython-input-2-6958a4ec804d>\u001b[0m in \u001b[0;36m<module>\u001b[0;34m()\u001b[0m\n\u001b[1;32m      1\u001b[0m \u001b[0mm\u001b[0m \u001b[0;34m=\u001b[0m \u001b[0mnn\u001b[0m\u001b[0;34m.\u001b[0m\u001b[0mBatchNorm1d\u001b[0m\u001b[0;34m(\u001b[0m\u001b[0;36m100\u001b[0m\u001b[0;34m,\u001b[0m \u001b[0mmomentum\u001b[0m\u001b[0;34m=\u001b[0m\u001b[0;32mNone\u001b[0m\u001b[0;34m)\u001b[0m\u001b[0;34m\u001b[0m\u001b[0m\n\u001b[1;32m      2\u001b[0m \u001b[0minput\u001b[0m \u001b[0;34m=\u001b[0m \u001b[0mtorch\u001b[0m\u001b[0;34m.\u001b[0m\u001b[0mrandn\u001b[0m\u001b[0;34m(\u001b[0m\u001b[0;36m20\u001b[0m\u001b[0;34m,\u001b[0m \u001b[0;36m100\u001b[0m\u001b[0;34m)\u001b[0m\u001b[0;34m\u001b[0m\u001b[0m\n\u001b[0;32m----> 3\u001b[0;31m \u001b[0moutput\u001b[0m \u001b[0;34m=\u001b[0m \u001b[0mm\u001b[0m\u001b[0;34m(\u001b[0m\u001b[0minput\u001b[0m\u001b[0;34m)\u001b[0m\u001b[0;34m\u001b[0m\u001b[0m\n\u001b[0m\u001b[1;32m      4\u001b[0m \u001b[0mprint\u001b[0m\u001b[0;34m(\u001b[0m\u001b[0moutput\u001b[0m\u001b[0;34m.\u001b[0m\u001b[0msize\u001b[0m\u001b[0;34m(\u001b[0m\u001b[0;34m)\u001b[0m\u001b[0;34m)\u001b[0m\u001b[0;34m\u001b[0m\u001b[0m\n",
            "\u001b[0;32m/usr/local/lib/python3.6/dist-packages/torch/nn/modules/module.py\u001b[0m in \u001b[0;36m__call__\u001b[0;34m(self, *input, **kwargs)\u001b[0m\n\u001b[1;32m    489\u001b[0m             \u001b[0mresult\u001b[0m \u001b[0;34m=\u001b[0m \u001b[0mself\u001b[0m\u001b[0;34m.\u001b[0m\u001b[0m_slow_forward\u001b[0m\u001b[0;34m(\u001b[0m\u001b[0;34m*\u001b[0m\u001b[0minput\u001b[0m\u001b[0;34m,\u001b[0m \u001b[0;34m**\u001b[0m\u001b[0mkwargs\u001b[0m\u001b[0;34m)\u001b[0m\u001b[0;34m\u001b[0m\u001b[0m\n\u001b[1;32m    490\u001b[0m         \u001b[0;32melse\u001b[0m\u001b[0;34m:\u001b[0m\u001b[0;34m\u001b[0m\u001b[0m\n\u001b[0;32m--> 491\u001b[0;31m             \u001b[0mresult\u001b[0m \u001b[0;34m=\u001b[0m \u001b[0mself\u001b[0m\u001b[0;34m.\u001b[0m\u001b[0mforward\u001b[0m\u001b[0;34m(\u001b[0m\u001b[0;34m*\u001b[0m\u001b[0minput\u001b[0m\u001b[0;34m,\u001b[0m \u001b[0;34m**\u001b[0m\u001b[0mkwargs\u001b[0m\u001b[0;34m)\u001b[0m\u001b[0;34m\u001b[0m\u001b[0m\n\u001b[0m\u001b[1;32m    492\u001b[0m         \u001b[0;32mfor\u001b[0m \u001b[0mhook\u001b[0m \u001b[0;32min\u001b[0m \u001b[0mself\u001b[0m\u001b[0;34m.\u001b[0m\u001b[0m_forward_hooks\u001b[0m\u001b[0;34m.\u001b[0m\u001b[0mvalues\u001b[0m\u001b[0;34m(\u001b[0m\u001b[0;34m)\u001b[0m\u001b[0;34m:\u001b[0m\u001b[0;34m\u001b[0m\u001b[0m\n\u001b[1;32m    493\u001b[0m             \u001b[0mhook_result\u001b[0m \u001b[0;34m=\u001b[0m \u001b[0mhook\u001b[0m\u001b[0;34m(\u001b[0m\u001b[0mself\u001b[0m\u001b[0;34m,\u001b[0m \u001b[0minput\u001b[0m\u001b[0;34m,\u001b[0m \u001b[0mresult\u001b[0m\u001b[0;34m)\u001b[0m\u001b[0;34m\u001b[0m\u001b[0m\n",
            "\u001b[0;32m/usr/local/lib/python3.6/dist-packages/torch/nn/modules/batchnorm.py\u001b[0m in \u001b[0;36mforward\u001b[0;34m(self, input)\u001b[0m\n\u001b[1;32m     47\u001b[0m         return F.batch_norm(\n\u001b[1;32m     48\u001b[0m             \u001b[0minput\u001b[0m\u001b[0;34m,\u001b[0m \u001b[0mself\u001b[0m\u001b[0;34m.\u001b[0m\u001b[0mrunning_mean\u001b[0m\u001b[0;34m,\u001b[0m \u001b[0mself\u001b[0m\u001b[0;34m.\u001b[0m\u001b[0mrunning_var\u001b[0m\u001b[0;34m,\u001b[0m \u001b[0mself\u001b[0m\u001b[0;34m.\u001b[0m\u001b[0mweight\u001b[0m\u001b[0;34m,\u001b[0m \u001b[0mself\u001b[0m\u001b[0;34m.\u001b[0m\u001b[0mbias\u001b[0m\u001b[0;34m,\u001b[0m\u001b[0;34m\u001b[0m\u001b[0m\n\u001b[0;32m---> 49\u001b[0;31m             self.training or not self.track_running_stats, self.momentum, self.eps)\n\u001b[0m\u001b[1;32m     50\u001b[0m \u001b[0;34m\u001b[0m\u001b[0m\n\u001b[1;32m     51\u001b[0m     \u001b[0;32mdef\u001b[0m \u001b[0mextra_repr\u001b[0m\u001b[0;34m(\u001b[0m\u001b[0mself\u001b[0m\u001b[0;34m)\u001b[0m\u001b[0;34m:\u001b[0m\u001b[0;34m\u001b[0m\u001b[0m\n",
            "\u001b[0;32m/usr/local/lib/python3.6/dist-packages/torch/nn/functional.py\u001b[0m in \u001b[0;36mbatch_norm\u001b[0;34m(input, running_mean, running_var, weight, bias, training, momentum, eps)\u001b[0m\n\u001b[1;32m   1192\u001b[0m     return torch.batch_norm(\n\u001b[1;32m   1193\u001b[0m         \u001b[0minput\u001b[0m\u001b[0;34m,\u001b[0m \u001b[0mweight\u001b[0m\u001b[0;34m,\u001b[0m \u001b[0mbias\u001b[0m\u001b[0;34m,\u001b[0m \u001b[0mrunning_mean\u001b[0m\u001b[0;34m,\u001b[0m \u001b[0mrunning_var\u001b[0m\u001b[0;34m,\u001b[0m\u001b[0;34m\u001b[0m\u001b[0m\n\u001b[0;32m-> 1194\u001b[0;31m         \u001b[0mtraining\u001b[0m\u001b[0;34m,\u001b[0m \u001b[0mmomentum\u001b[0m\u001b[0;34m,\u001b[0m \u001b[0meps\u001b[0m\u001b[0;34m,\u001b[0m \u001b[0mtorch\u001b[0m\u001b[0;34m.\u001b[0m\u001b[0mbackends\u001b[0m\u001b[0;34m.\u001b[0m\u001b[0mcudnn\u001b[0m\u001b[0;34m.\u001b[0m\u001b[0menabled\u001b[0m\u001b[0;34m\u001b[0m\u001b[0m\n\u001b[0m\u001b[1;32m   1195\u001b[0m     )\n\u001b[1;32m   1196\u001b[0m \u001b[0;34m\u001b[0m\u001b[0m\n",
            "\u001b[0;31mTypeError\u001b[0m: batch_norm(): argument 'momentum' (position 7) must be float, not NoneType"
          ]
        }
      ]
    },
    {
      "metadata": {
        "id": "mBLSdliXz4K7",
        "colab_type": "code",
        "colab": {
          "base_uri": "https://localhost:8080/",
          "height": 34
        },
        "outputId": "896e53aa-3636-4cb9-8b94-e2c89be304e5"
      },
      "cell_type": "code",
      "source": [
        "#track_running_stats=Noneでバッチごとに再計算されない\n",
        "m = nn.BatchNorm1d(100, track_running_stats=None)\n",
        "input = torch.randn(20, 100)\n",
        "output = m(input)\n",
        "print(output.size())"
      ],
      "execution_count": 3,
      "outputs": [
        {
          "output_type": "stream",
          "text": [
            "torch.Size([20, 100])\n"
          ],
          "name": "stdout"
        }
      ]
    },
    {
      "metadata": {
        "id": "Yq2U6geAtv7L",
        "colab_type": "text"
      },
      "cell_type": "markdown",
      "source": [
        "## 2次元バッチ正規化\n",
        "\n",
        "バッチ正規化はチャンネル次元で実行され、(バッチ、縦、横)スライスの統計を計算する。\n",
        "\n",
        "```\n",
        "class torch.nn.BatchNorm2d(num_features, eps=1e-05, momentum=0.1, affine=True, track_running_stats=True)\n",
        "```\n",
        "\n",
        "num_features：（バッチ数、チャンネル数、縦、横）の入力      \n",
        "eps：数値安定性のために分母に加えられた値。デフォルト：1e-5    \n",
        "momentum：meanおよびvar計算に使用される値。累積移動平均（つまり単純平均）の場合はNoneに設定できます。デフォルト：0.1    \n",
        "affine：これをTrueに設定すると、このモジュールは学習可能なアフィンパラメータを持ちます。デフォルト：True    \n",
        "track_running_stats：Trueに設定されている場合は実行中の平均と分散を追跡し、Falseに設定すると、このような統計は追跡されずトレーニングモードと評価モードの両方で常にバッチ統計が使用されます。デフォルト：True\n"
      ]
    },
    {
      "metadata": {
        "id": "mkE7XIaMqsQY",
        "colab_type": "code",
        "colab": {
          "base_uri": "https://localhost:8080/",
          "height": 34
        },
        "outputId": "0100a662-c615-4568-cec8-a89195bc1342"
      },
      "cell_type": "code",
      "source": [
        "# 学習可能なパラメータ\n",
        "m = nn.BatchNorm2d(100)\n",
        "# 学習可能なパラメータがない場合\n",
        "m = nn.BatchNorm2d(100, affine=False)\n",
        "input = torch.randn(20, 100, 35, 45)\n",
        "output = m(input)\n",
        "print(output.size())"
      ],
      "execution_count": 0,
      "outputs": [
        {
          "output_type": "stream",
          "text": [
            "torch.Size([20, 100, 35, 45])\n"
          ],
          "name": "stdout"
        }
      ]
    },
    {
      "metadata": {
        "id": "-hbGzGkruCoC",
        "colab_type": "text"
      },
      "cell_type": "markdown",
      "source": [
        "## 3次元バッチ正規化\n",
        "\n",
        "バッチ正規化はチャンネル次元で実行され、(バッチ、縦、横、奥行き)スライスの統計を計算する。\n",
        "\n",
        "```\n",
        "class torch.nn.BatchNorm3d(num_features, eps=1e-05, momentum=0.1, affine=True, track_running_stats=True)\n",
        "```\n",
        "\n",
        "num_features：（バッチサイズ、チャンネル数、縦、横、奥行）の入力      \n",
        "eps：数値安定性のために分母に加えられた値。デフォルト：1e-5    \n",
        "momentum：meanおよびvar計算に使用される値。累積移動平均（つまり単純平均）の場合はNoneに設定できます。デフォルト：0.1    \n",
        "affine：これをTrueに設定すると、このモジュールは学習可能なアフィンパラメータを持ちます。デフォルト：True    \n",
        "track_running_stats：Trueに設定されている場合は実行中の平均と分散を追跡し、Falseに設定すると、このような統計は追跡されずトレーニングモードと評価モードの両方で常にバッチ統計が使用されます。デフォルト：True\n",
        "\n"
      ]
    },
    {
      "metadata": {
        "id": "zIRxkRHKqsL_",
        "colab_type": "code",
        "colab": {
          "base_uri": "https://localhost:8080/",
          "height": 34
        },
        "outputId": "86525c65-373f-4181-a3d6-75f6657635bf"
      },
      "cell_type": "code",
      "source": [
        "# 学習可能なパラメータ\n",
        "m = nn.BatchNorm3d(100)\n",
        "# 学習可能なパラメータがない場合\n",
        "m = nn.BatchNorm3d(100, affine=False)\n",
        "input = torch.randn(20, 100, 35, 45, 10)\n",
        "output = m(input)\n",
        "print(output.size())"
      ],
      "execution_count": 136,
      "outputs": [
        {
          "output_type": "stream",
          "text": [
            "torch.Size([20, 100, 35, 45, 10])\n"
          ],
          "name": "stdout"
        }
      ]
    },
    {
      "metadata": {
        "id": "_mdjP_xcuS7D",
        "colab_type": "text"
      },
      "cell_type": "markdown",
      "source": [
        "## 1次元インスタンス正規化\n",
        "\n",
        "```\n",
        "class torch.nn.InstanceNorm1d(num_features, eps=1e-05, momentum=0.1, affine=False, track_running_stats=False)\n",
        "```\n",
        "\n",
        "\n",
        "2Dまたは3D入力に対するインスタンスの正規化を適用。正規化する。    \n",
        "デフォルトではtrack_running_stats=Falseなのでトレーニングモードと評価モードの両方で入力データから計算された統計を使用する。track_running_stats=Trueの場合は学習中に平均と分散の推定値を保持し続け、評価の間に正規化に使用される。\n",
        "\n",
        "詳細は Instance Normalization: The Missing Ingredient for Fast Stylization 。\n",
        "\n",
        "\n",
        "引数\n",
        "\n",
        "num_features：（バッチ数、１次元配列の長さ）か（バッチ数、チャンネル数、１次元配列の長さ）の入力    \n",
        "eps：数値安定性のために分母に加えられた値。デフォルト：1e-5    \n",
        "momentum：meanおよびvar計算に使用される値。デフォルト：0.1    \n",
        "affine：これをTrueに設定すると、このモジュールは学習可能なアフィンパラメータを持ちます。デフォルト：True    \n",
        "track_running_stats：Trueに設定されている場合は実行中の平均と分散を追跡し、Falseに設定すると統計は追跡されずトレーニングモードと評価モードの両方で常にバッチ統計が使用されます。デフォルト：False"
      ]
    },
    {
      "metadata": {
        "id": "QV9w-ieUqsIP",
        "colab_type": "code",
        "colab": {
          "base_uri": "https://localhost:8080/",
          "height": 34
        },
        "outputId": "4b37bd34-aa72-47f5-a167-11f0257b237e"
      },
      "cell_type": "code",
      "source": [
        "# 学習可能なパラメータ\n",
        "m = nn.InstanceNorm1d(100)\n",
        "# 学習可能なパラメータがない場合\n",
        "m = nn.InstanceNorm1d(100, affine=True)\n",
        "input = torch.randn(20, 100, 40)\n",
        "output = m(input)\n",
        "print(output.size())"
      ],
      "execution_count": 0,
      "outputs": [
        {
          "output_type": "stream",
          "text": [
            "torch.Size([20, 100, 40])\n"
          ],
          "name": "stdout"
        }
      ]
    },
    {
      "metadata": {
        "id": "yAtSEWL9wJg-",
        "colab_type": "text"
      },
      "cell_type": "markdown",
      "source": [
        "## 2次元インスタンス正規化\n",
        "\n",
        "バッチサイズごとではなく、データごとに正規化する。"
      ]
    },
    {
      "metadata": {
        "id": "jC2jqUyawHqU",
        "colab_type": "code",
        "colab": {
          "base_uri": "https://localhost:8080/",
          "height": 34
        },
        "outputId": "96ca87c3-a1d6-4b18-a753-e756fce2dd74"
      },
      "cell_type": "code",
      "source": [
        "# 学習可能なパラメータ\n",
        "m = nn.InstanceNorm2d(100)\n",
        "# 学習可能なパラメータがない場合\n",
        "m = nn.InstanceNorm2d(100, affine=True)\n",
        "input = torch.randn(20, 100, 35, 45)\n",
        "output = m(input)\n",
        "print(output.size())"
      ],
      "execution_count": 0,
      "outputs": [
        {
          "output_type": "stream",
          "text": [
            "torch.Size([20, 100, 35, 45])\n"
          ],
          "name": "stdout"
        }
      ]
    },
    {
      "metadata": {
        "id": "G6VVKXSfwRjf",
        "colab_type": "text"
      },
      "cell_type": "markdown",
      "source": [
        "## 3次元インスタンス正規化\n",
        "\n",
        "バッチサイズごとではなく、データごとに正規化する。"
      ]
    },
    {
      "metadata": {
        "id": "rWf1RBwpwH6W",
        "colab_type": "code",
        "colab": {
          "base_uri": "https://localhost:8080/",
          "height": 34
        },
        "outputId": "f2d4ca9c-ff15-454b-dc03-0671f8321540"
      },
      "cell_type": "code",
      "source": [
        "# 学習可能なパラメータ\n",
        "m = nn.InstanceNorm3d(100)\n",
        "# 学習可能なパラメータがない場合\n",
        "m = nn.InstanceNorm3d(100, affine=True)\n",
        "input = torch.randn(20, 100, 35, 45, 10)\n",
        "output = m(input)\n",
        "print(output.size())"
      ],
      "execution_count": 0,
      "outputs": [
        {
          "output_type": "stream",
          "text": [
            "torch.Size([20, 100, 35, 45, 10])\n"
          ],
          "name": "stdout"
        }
      ]
    },
    {
      "metadata": {
        "id": "RZ1nioUQwbmI",
        "colab_type": "text"
      },
      "cell_type": "markdown",
      "source": [
        "# リカレント"
      ]
    },
    {
      "metadata": {
        "id": "JmR_e4VRweS0",
        "colab_type": "text"
      },
      "cell_type": "markdown",
      "source": [
        "## nn.RNN\n",
        "\n",
        "```\n",
        "class torch.nn.RNN(*args, **kwargs)\n",
        "```\n",
        "\n",
        "- 引数    \n",
        "\n",
        "input_size：入力xにおける期待される特徴の数    \n",
        "hidden_size：隠れ状態の特徴量の数h    \n",
        "num_layers：反復層の数。例えば、num_layers = 2を設定することは、2つのRNNを積み重ねて積み重ねられたRNNを形成することを意味し、第2のRNNは第1のRNNの出力を取り込み、最終結果を計算する。デフォルト：1    \n",
        "nonlinearity：使用する非線形性。 'tanh'または 'relu'のいずれかになります。デフォルト： 'tanh'    \n",
        "bias：Falseの場合はバイアス重みを使用しません。デフォルト：True    \n",
        "batch_first：Trueの場合は入出力テンソルは（batch、seq、feature）として提供されます。デフォルト：False    \n",
        "dropout：ドロップアウト確率を入れます。デフォルトは0。    \n",
        "bidirectional：Trueの場合は双方向RNNになります。デフォルトはFalse。\n",
        "    \n",
        "    \n",
        "\n",
        "- 入力    \n",
        "\n",
        "(seq_len, batch, input_size)：    \n",
        "\n",
        "- 出力    \n",
        "\n",
        "(seq_len, batch, num_directions * hidden_size)    \n",
        "\n",
        "    \n",
        "    \n",
        "\n",
        "\n",
        "入力シーケンスにtanhまたはReLU非線形性を持つ多層Elman RNNを適用します。\n"
      ]
    },
    {
      "metadata": {
        "id": "X6sT3tYzwH14",
        "colab_type": "code",
        "colab": {
          "base_uri": "https://localhost:8080/",
          "height": 51
        },
        "outputId": "d6ed57f7-0ffc-43f9-b0ec-828642f93781"
      },
      "cell_type": "code",
      "source": [
        "rnn = nn.RNN(input_size=10,hidden_size= 20, num_layers=2)\n",
        "input = torch.randn(5, 3, 10)\n",
        "h0 = torch.randn(2, 3, 20)\n",
        "output, hn = rnn(input, h0)\n",
        "print(output.size())\n",
        "print(hn.size())"
      ],
      "execution_count": 3,
      "outputs": [
        {
          "output_type": "stream",
          "text": [
            "torch.Size([5, 3, 20])\n",
            "torch.Size([2, 3, 20])\n"
          ],
          "name": "stdout"
        }
      ]
    },
    {
      "metadata": {
        "id": "Hdh2JB_ndekI",
        "colab_type": "code",
        "colab": {}
      },
      "cell_type": "code",
      "source": [
        "#３層\n",
        "rnn = nn.RNN(input_size=10,hidden_size= 20, num_layers=3)\n",
        "input = torch.randn(5, 3, 10)\n",
        "h0 = torch.randn(3, 3, 20)\n",
        "output, hn = rnn(input, h0)\n",
        "print(output.size())\n",
        "print(hn.size())"
      ],
      "execution_count": 0,
      "outputs": []
    },
    {
      "metadata": {
        "id": "l4R_kscTQDEr",
        "colab_type": "code",
        "colab": {
          "base_uri": "https://localhost:8080/",
          "height": 51
        },
        "outputId": "5c25d084-efd4-4986-9a4b-f69b69c83390"
      },
      "cell_type": "code",
      "source": [
        "#tanh\n",
        "rnn = nn.RNN(input_size=10,hidden_size= 20, num_layers=2, nonlinearity='tanh')\n",
        "input = torch.randn(5, 3, 10)\n",
        "h0 = torch.randn(2, 3, 20)\n",
        "output, hn = rnn(input, h0)\n",
        "print(output.size())\n",
        "print(hn.size())"
      ],
      "execution_count": 4,
      "outputs": [
        {
          "output_type": "stream",
          "text": [
            "torch.Size([5, 3, 20])\n",
            "torch.Size([2, 3, 20])\n"
          ],
          "name": "stdout"
        }
      ]
    },
    {
      "metadata": {
        "id": "l1KUX9F7augA",
        "colab_type": "code",
        "colab": {}
      },
      "cell_type": "code",
      "source": [
        "#relu\n",
        "rnn = nn.RNN(input_size=10,hidden_size= 20, num_layers=2, nonlinearity='relu')\n",
        "input = torch.randn(5, 3, 10)\n",
        "h0 = torch.randn(2, 3, 20)\n",
        "output, hn = rnn(input, h0)\n",
        "print(output.size())\n",
        "print(hn.size())"
      ],
      "execution_count": 0,
      "outputs": []
    },
    {
      "metadata": {
        "id": "Pqr_Epbjamf_",
        "colab_type": "code",
        "colab": {
          "base_uri": "https://localhost:8080/",
          "height": 51
        },
        "outputId": "73353bfa-02b7-4951-9429-015129781563"
      },
      "cell_type": "code",
      "source": [
        "#バイアスを使わない\n",
        "rnn = nn.RNN(input_size=10,hidden_size= 20, num_layers=2, bias=False)\n",
        "input = torch.randn(5, 3, 10)\n",
        "h0 = torch.randn(2, 3, 20)\n",
        "output, hn = rnn(input, h0)\n",
        "print(output.size())\n",
        "print(hn.size())"
      ],
      "execution_count": 8,
      "outputs": [
        {
          "output_type": "stream",
          "text": [
            "torch.Size([5, 3, 20])\n",
            "torch.Size([2, 3, 20])\n"
          ],
          "name": "stdout"
        }
      ]
    },
    {
      "metadata": {
        "id": "K8YwzFx8b2CL",
        "colab_type": "code",
        "colab": {
          "base_uri": "https://localhost:8080/",
          "height": 51
        },
        "outputId": "dfad982e-1807-4e65-92fe-13eeeb55d3b9"
      },
      "cell_type": "code",
      "source": [
        "#バッチを初めにする。（batch、seq、feature）の入力になります。\n",
        "rnn = nn.RNN(input_size=10,hidden_size= 20, num_layers=2, batch_first=True)\n",
        "input = torch.randn(5, 3, 10)\n",
        "h0 = torch.randn(2, 3, 20)\n",
        "output, hn = rnn(input, h0)\n",
        "print(output.size())\n",
        "print(hn.size())"
      ],
      "execution_count": 11,
      "outputs": [
        {
          "output_type": "stream",
          "text": [
            "torch.Size([5, 3, 20])\n",
            "torch.Size([2, 3, 20])\n"
          ],
          "name": "stdout"
        }
      ]
    },
    {
      "metadata": {
        "id": "ZZqg8ZhqP_JN",
        "colab_type": "code",
        "colab": {
          "base_uri": "https://localhost:8080/",
          "height": 51
        },
        "outputId": "ce62f8d3-0294-4b9b-a467-18ea27bdb4c0"
      },
      "cell_type": "code",
      "source": [
        "#dropout 0.5\n",
        "rnn = nn.RNN(input_size=10,hidden_size= 20, num_layers=2, dropout=0.5)\n",
        "input = torch.randn(5, 3, 10)\n",
        "h0 = torch.randn(2, 3, 20)\n",
        "output, hn = rnn(input, h0)\n",
        "print(output.size())\n",
        "print(hn.size())"
      ],
      "execution_count": 20,
      "outputs": [
        {
          "output_type": "stream",
          "text": [
            "torch.Size([5, 3, 20])\n",
            "torch.Size([2, 3, 20])\n"
          ],
          "name": "stdout"
        }
      ]
    },
    {
      "metadata": {
        "id": "bWvgrq5XeI7M",
        "colab_type": "code",
        "colab": {
          "base_uri": "https://localhost:8080/",
          "height": 51
        },
        "outputId": "0841cc07-2c64-4d97-c4b5-bd02e21e42c3"
      },
      "cell_type": "code",
      "source": [
        "#双方向RNN\n",
        "rnn = nn.RNN(input_size=10,hidden_size= 20, num_layers=2, bidirectional=True)\n",
        "input = torch.randn(5, 3, 10)\n",
        "h0 = torch.randn(4, 3, 20)\n",
        "output, hn = rnn(input, h0)\n",
        "print(output.size())\n",
        "print(hn.size())"
      ],
      "execution_count": 24,
      "outputs": [
        {
          "output_type": "stream",
          "text": [
            "torch.Size([5, 3, 40])\n",
            "torch.Size([4, 3, 20])\n"
          ],
          "name": "stdout"
        }
      ]
    },
    {
      "metadata": {
        "id": "EfH74MfNyOa2",
        "colab_type": "text"
      },
      "cell_type": "markdown",
      "source": [
        "## nn.LSTM\n",
        "\n",
        "\n",
        "```\n",
        "class torch.nn.LSTM(*args, **kwargs)\n",
        "```\n",
        "\n",
        "input_size：入力xにおける期待される特徴の数    \n",
        "hidden_size：隠れ状態の特徴量の数h    \n",
        "num_layers：num_layer = 2の場合は２層のLSTM。デフォルトは１。    \n",
        "bias：Falseの場合はバイアス重みを使用しません。デフォルトはTrue    \n",
        "batch_first：Trueの場合は入出力テンソルは（batch、seq、feature）として提供されます。デフォルト：False    \n",
        "dropout：ドロップアウト確率を入れます。デフォルトは0。    \n",
        "bidirectional：Trueの場合は双方向LSTMになります。デフォルトはFalse。\n",
        "\n",
        "    \n",
        "\n",
        "- 入力    \n",
        "\n",
        "\n",
        "(seq_len, batch, input_size)\n",
        "     \n",
        "\n",
        "- 出力    \n",
        "\n",
        "(seq_len, batch, num_directions * hidden_size)    \n",
        "\n",
        "\n"
      ]
    },
    {
      "metadata": {
        "id": "a5zf0y7ZwHx9",
        "colab_type": "code",
        "colab": {}
      },
      "cell_type": "code",
      "source": [
        "rnn = nn.LSTM(input_size=10, hidden_size=20, num_layers=2)\n",
        "input = torch.randn(5, 3, 10)\n",
        "h0 = torch.randn(2, 3, 20)\n",
        "c0 = torch.randn(2, 3, 20)\n",
        "output, hn = rnn(input, (h0, c0))"
      ],
      "execution_count": 0,
      "outputs": []
    },
    {
      "metadata": {
        "id": "bq_rp34ShpH-",
        "colab_type": "code",
        "colab": {}
      },
      "cell_type": "code",
      "source": [
        "#バイアスを使わない\n",
        "rnn = nn.LSTM(input_size=10, hidden_size=20, num_layers=2, bias=False)\n",
        "input = torch.randn(5, 3, 10)\n",
        "h0 = torch.randn(2, 3, 20)\n",
        "c0 = torch.randn(2, 3, 20)\n",
        "output, hn = rnn(input, (h0, c0))"
      ],
      "execution_count": 0,
      "outputs": []
    },
    {
      "metadata": {
        "id": "pi5uGjwLoijv",
        "colab_type": "code",
        "colab": {}
      },
      "cell_type": "code",
      "source": [
        ""
      ],
      "execution_count": 0,
      "outputs": []
    },
    {
      "metadata": {
        "id": "hD7Wr7GXyXFV",
        "colab_type": "text"
      },
      "cell_type": "markdown",
      "source": [
        "## nn.GRU"
      ]
    },
    {
      "metadata": {
        "id": "57eY0WmjwupM",
        "colab_type": "code",
        "colab": {}
      },
      "cell_type": "code",
      "source": [
        "rnn = nn.GRU(10, 20, 2)\n",
        "input = torch.randn(5, 3, 10)\n",
        "h0 = torch.randn(2, 3, 20)\n",
        "output, hn = rnn(input, h0)"
      ],
      "execution_count": 0,
      "outputs": []
    },
    {
      "metadata": {
        "id": "abvKRQN4ydIx",
        "colab_type": "text"
      },
      "cell_type": "markdown",
      "source": [
        "## シンプルなRNNセル\n",
        "\n",
        "```\n",
        "class torch.nn.RNNCell(input_size, hidden_size, bias=True, nonlinearity='tanh')\n",
        "```"
      ]
    },
    {
      "metadata": {
        "id": "dkFLFTByyV4n",
        "colab_type": "code",
        "colab": {}
      },
      "cell_type": "code",
      "source": [
        "rnn = nn.RNNCell(10, 20)\n",
        "input = torch.randn(6, 3, 10)\n",
        "hx = torch.randn(3, 20)\n",
        "output = []\n",
        "for i in range(6):\n",
        "        hx = rnn(input[i], hx)\n",
        "        output.append(hx)"
      ],
      "execution_count": 0,
      "outputs": []
    },
    {
      "metadata": {
        "id": "5uH6Asc8zUR1",
        "colab_type": "text"
      },
      "cell_type": "markdown",
      "source": [
        "## LSTMセル\n",
        "\n",
        "\n",
        "\n",
        "https://github.com/jamesr66a/translate/blob/d9d3768fcac735dc100ecf3232b47d52c8482306/fbtranslate/rnn.py#L519"
      ]
    },
    {
      "metadata": {
        "id": "QcCGOlGayWCx",
        "colab_type": "code",
        "colab": {}
      },
      "cell_type": "code",
      "source": [
        "rnn = nn.LSTMCell(10, 20)\n",
        "input = torch.randn(6, 3, 10)\n",
        "hx = torch.randn(3, 20)\n",
        "cx = torch.randn(3, 20)\n",
        "output = []\n",
        "for i in range(6):\n",
        "        hx, cx = rnn(input[i], (hx, cx))\n",
        "        output.append(hx)"
      ],
      "execution_count": 0,
      "outputs": []
    },
    {
      "metadata": {
        "id": "uaiE6wZpyWPA",
        "colab_type": "code",
        "colab": {}
      },
      "cell_type": "code",
      "source": [
        ""
      ],
      "execution_count": 0,
      "outputs": []
    },
    {
      "metadata": {
        "id": "dyZZczaizf21",
        "colab_type": "text"
      },
      "cell_type": "markdown",
      "source": [
        "## GRUセルを。。。"
      ]
    },
    {
      "metadata": {
        "id": "MxcIcBaCyWXS",
        "colab_type": "code",
        "colab": {}
      },
      "cell_type": "code",
      "source": [
        "rnn = nn.GRUCell(10, 20)\n",
        "input = torch.randn(6, 3, 10)\n",
        "hx = torch.randn(3, 20)\n",
        "output = []\n",
        "for i in range(6):\n",
        "        hx = rnn(input[i], hx)\n",
        "        output.append(hx)"
      ],
      "execution_count": 0,
      "outputs": []
    },
    {
      "metadata": {
        "id": "urpAKThBzvXp",
        "colab_type": "text"
      },
      "cell_type": "markdown",
      "source": [
        "# 線形レイヤー"
      ]
    },
    {
      "metadata": {
        "id": "gEFLnknbz5VF",
        "colab_type": "text"
      },
      "cell_type": "markdown",
      "source": [
        "## 線形変換\n",
        "\n",
        "\n",
        "```\n",
        "class torch.nn.Linear(in_features, out_features, bias=True)\n",
        "```\n",
        "\n",
        "in_features：各入力サンプルのサイズ    \n",
        "out_features：各出力サンプルのサイズ    \n",
        "bias：Falseに設定するとレイヤーはバイアスを学習しません。デフォルト：True"
      ]
    },
    {
      "metadata": {
        "id": "1HDjPVeoyWKQ",
        "colab_type": "code",
        "colab": {
          "base_uri": "https://localhost:8080/",
          "height": 34
        },
        "outputId": "0b5d682b-0e10-4bab-c379-70dbac88e63c"
      },
      "cell_type": "code",
      "source": [
        "m = nn.Linear(20, 30)\n",
        "input = torch.randn(128, 20)\n",
        "output = m(input)\n",
        "print(output.size())"
      ],
      "execution_count": 0,
      "outputs": [
        {
          "output_type": "stream",
          "text": [
            "torch.Size([128, 30])\n"
          ],
          "name": "stdout"
        }
      ]
    },
    {
      "metadata": {
        "id": "d-dt3OjU1Lvm",
        "colab_type": "text"
      },
      "cell_type": "markdown",
      "source": [
        "## 双一次変換"
      ]
    },
    {
      "metadata": {
        "id": "nnXeB1kTzyeC",
        "colab_type": "code",
        "colab": {
          "base_uri": "https://localhost:8080/",
          "height": 34
        },
        "outputId": "0ff34cb7-b876-44da-eab1-faec177e40f5"
      },
      "cell_type": "code",
      "source": [
        "m = nn.Bilinear(20, 30, 40)\n",
        "input1 = torch.randn(128, 20)\n",
        "input2 = torch.randn(128, 30)\n",
        "output = m(input1, input2)\n",
        "print(output.size())"
      ],
      "execution_count": 0,
      "outputs": [
        {
          "output_type": "stream",
          "text": [
            "torch.Size([128, 40])\n"
          ],
          "name": "stdout"
        }
      ]
    },
    {
      "metadata": {
        "id": "U5fqIYUP1avy",
        "colab_type": "text"
      },
      "cell_type": "markdown",
      "source": [
        "## ドロップアウト\n",
        "\n",
        "\n",
        "```\n",
        "class torch.nn.Dropout(p=0.5, inplace=False)\n",
        "```\n",
        "\n",
        "p：要素がゼロになる確率。デフォルト：0.5    \n",
        "inplace：\n"
      ]
    },
    {
      "metadata": {
        "id": "3vTGxoKkzyaG",
        "colab_type": "code",
        "colab": {}
      },
      "cell_type": "code",
      "source": [
        "m = nn.Dropout(p=0.2)\n",
        "input = torch.randn(20, 16)\n",
        "output = m(input)"
      ],
      "execution_count": 0,
      "outputs": []
    },
    {
      "metadata": {
        "id": "u_hPgUjG1t1a",
        "colab_type": "text"
      },
      "cell_type": "markdown",
      "source": [
        "## 2Dドロップアウト\n",
        "\n",
        "```\n",
        "class torch.nn.Dropout2d(p=0.5, inplace=False)\n",
        "```\n",
        "\n",
        "p：要素がゼロになる確率。デフォルト：0.5    \n",
        "inplace：\n"
      ]
    },
    {
      "metadata": {
        "id": "T4y0ileDzyWS",
        "colab_type": "code",
        "colab": {}
      },
      "cell_type": "code",
      "source": [
        "m = nn.Dropout2d(p=0.2)\n",
        "input = torch.randn(20, 16, 32, 32)\n",
        "output = m(input)"
      ],
      "execution_count": 0,
      "outputs": []
    },
    {
      "metadata": {
        "id": "AZgRN2SN2DHh",
        "colab_type": "text"
      },
      "cell_type": "markdown",
      "source": [
        "## 3Dドロップアウト\n",
        "\n",
        "```\n",
        "class torch.nn.Dropout3d(p=0.5, inplace=False)\n",
        "```\n",
        "\n",
        "p：要素がゼロになる確率。デフォルト：0.5    \n",
        "inplace：\n"
      ]
    },
    {
      "metadata": {
        "id": "UFnFF8TbzySc",
        "colab_type": "code",
        "colab": {}
      },
      "cell_type": "code",
      "source": [
        "m = nn.Dropout3d(p=0.2)\n",
        "input = torch.randn(20, 16, 4, 32, 32)\n",
        "output = m(input)"
      ],
      "execution_count": 0,
      "outputs": []
    },
    {
      "metadata": {
        "id": "qoQ87lhz2umL",
        "colab_type": "text"
      },
      "cell_type": "markdown",
      "source": [
        "## スパースレイヤー"
      ]
    },
    {
      "metadata": {
        "id": "gVQ_7ClY38V2",
        "colab_type": "text"
      },
      "cell_type": "markdown",
      "source": [
        "## 埋め込みレイヤー\n",
        "\n",
        "```\n",
        "class torch.nn.Embedding(num_embeddings, embedding_dim, padding_idx=None, max_norm=None, norm_type=2, scale_grad_by_freq=False, sparse=False, _weight=None)\n",
        "```\n",
        "\n",
        "num_embeddings：埋め込み辞書のサイズ    \n",
        "embedding_dim：各埋め込みベクトルのサイズ    \n",
        "padding_idx：指定されている場合、インデックスに出会うたびにpadding_idx（0に初期化）で埋め込みベクトルで出力をパディングします。    \n",
        "max_norm：与えられた場合、抽出する前にノルムをそれよりも小さくするように埋め込みベクトルを再標準化します。    \n",
        "norm_type：max_normオプションを計算するpノルムのp。デフォルト2。    \n",
        "scale_grad_by_freq：これが与えられると、ミニバッチ内の単語の頻度の逆数によって勾配をスケールします。デフォルトはFalseです。    \n",
        "sparse：Trueの場合、グラデーションw.r.t.重み行列は疎テンソルになります。スパース勾配の詳細については、Noteを参照してください。    \n"
      ]
    },
    {
      "metadata": {
        "id": "iBk8OTzBzyOL",
        "colab_type": "code",
        "colab": {
          "base_uri": "https://localhost:8080/",
          "height": 168
        },
        "outputId": "15cc63b6-5bdd-42fd-934e-94d0511a21f0"
      },
      "cell_type": "code",
      "source": [
        "# 10テンソルのサイズ3を含む埋め込みモジュール\n",
        "embedding = nn.Embedding(10, 3)\n",
        "# それぞれ4つのインデックスの2つのサンプルのバッチ\n",
        "input = torch.LongTensor([[1,2,4,5],[4,3,2,9]])\n",
        "embedding(input)"
      ],
      "execution_count": 0,
      "outputs": [
        {
          "output_type": "execute_result",
          "data": {
            "text/plain": [
              "tensor([[[ 0.2476, -0.8158,  0.2206],\n",
              "         [ 0.3776,  0.9144, -0.5726],\n",
              "         [ 1.8465,  0.0152, -0.8895],\n",
              "         [-1.4506,  2.5719,  0.0539]],\n",
              "\n",
              "        [[ 1.8465,  0.0152, -0.8895],\n",
              "         [ 0.8800,  0.7254, -0.3267],\n",
              "         [ 0.3776,  0.9144, -0.5726],\n",
              "         [ 2.4726, -0.3077, -1.1225]]])"
            ]
          },
          "metadata": {
            "tags": []
          },
          "execution_count": 87
        }
      ]
    },
    {
      "metadata": {
        "id": "hntaKgR9zyJD",
        "colab_type": "code",
        "colab": {
          "base_uri": "https://localhost:8080/",
          "height": 84
        },
        "outputId": "520648c9-2e7c-4a72-842e-e184905113e4"
      },
      "cell_type": "code",
      "source": [
        "# padding_idxの例\n",
        "embedding = nn.Embedding(10, 3, padding_idx=0)\n",
        "input = torch.LongTensor([[0,2,0,5]])\n",
        "embedding(input)"
      ],
      "execution_count": 0,
      "outputs": [
        {
          "output_type": "execute_result",
          "data": {
            "text/plain": [
              "tensor([[[ 0.0000,  0.0000,  0.0000],\n",
              "         [ 0.3364, -0.7002, -0.2715],\n",
              "         [ 0.0000,  0.0000,  0.0000],\n",
              "         [ 1.0884, -0.5005, -0.3580]]])"
            ]
          },
          "metadata": {
            "tags": []
          },
          "execution_count": 88
        }
      ]
    },
    {
      "metadata": {
        "id": "GpArAxspU3vq",
        "colab_type": "text"
      },
      "cell_type": "markdown",
      "source": [
        "# Loss functions"
      ]
    },
    {
      "metadata": {
        "id": "QozIeAYB4MXZ",
        "colab_type": "text"
      },
      "cell_type": "markdown",
      "source": [
        "## 要素ごとの平均２乗誤差"
      ]
    },
    {
      "metadata": {
        "id": "BsUG18rSzyE4",
        "colab_type": "code",
        "colab": {}
      },
      "cell_type": "code",
      "source": [
        "loss = nn.L1Loss()\n",
        "input = torch.randn(3, 5, requires_grad=True)\n",
        "target = torch.randn(3, 5)\n",
        "output = loss(input, target)\n",
        "output.backward()\n"
      ],
      "execution_count": 0,
      "outputs": []
    },
    {
      "metadata": {
        "id": "CG6e1pv94jIs",
        "colab_type": "text"
      },
      "cell_type": "markdown",
      "source": [
        "## 要素間の平均2乗誤差を測定"
      ]
    },
    {
      "metadata": {
        "id": "sIDhCbTqzx_Q",
        "colab_type": "code",
        "colab": {}
      },
      "cell_type": "code",
      "source": [
        "loss = nn.MSELoss()\n",
        "input = torch.randn(3, 5, requires_grad=True)\n",
        "target = torch.randn(3, 5)\n",
        "output = loss(input, target)\n",
        "output.backward()"
      ],
      "execution_count": 0,
      "outputs": []
    },
    {
      "metadata": {
        "id": "U7gP88eI46Hm",
        "colab_type": "text"
      },
      "cell_type": "markdown",
      "source": [
        "## nn.LogSoftmax（）とnn.NLLLoss（）を結合"
      ]
    },
    {
      "metadata": {
        "id": "gxhLaot94ov_",
        "colab_type": "code",
        "colab": {
          "base_uri": "https://localhost:8080/",
          "height": 34
        },
        "outputId": "069a5585-153e-4cd2-a260-c0f50b44759c"
      },
      "cell_type": "code",
      "source": [
        "loss = nn.CrossEntropyLoss()\n",
        "input = torch.randn(3, 5, requires_grad=True)\n",
        "target = torch.empty(3, dtype=torch.long).random_(5)\n",
        "output = loss(input, target)\n",
        "output.backward()\n",
        "print(output)"
      ],
      "execution_count": 0,
      "outputs": [
        {
          "output_type": "stream",
          "text": [
            "tensor(1.7789)\n"
          ],
          "name": "stdout"
        }
      ]
    },
    {
      "metadata": {
        "id": "mg5yPq8T4pFe",
        "colab_type": "code",
        "colab": {
          "base_uri": "https://localhost:8080/",
          "height": 168
        },
        "outputId": "b00b7236-2ae8-4082-b1ad-d40d95ba5655"
      },
      "cell_type": "code",
      "source": [
        "import torch\n",
        "import torch.nn as nn\n",
        "from torch.autograd import Variable\n",
        "\n",
        "x = torch.rand(1,10)\n",
        "y = torch.LongTensor([1])\n",
        "print(type(x))\n",
        "print(type(y))\n",
        "print(x.dtype)\n",
        "print(y.dtype)\n",
        "\n",
        "output = Variable(x)\n",
        "target = Variable(y)\n",
        "print(type(x))\n",
        "print(type(y))\n",
        "print(x.dtype)\n",
        "print(y.dtype)\n",
        "\n",
        "#criterion：基準\n",
        "criterion = nn.CrossEntropyLoss()\n",
        "loss = criterion(output, target)\n",
        "print(loss)"
      ],
      "execution_count": 0,
      "outputs": [
        {
          "output_type": "stream",
          "text": [
            "<class 'torch.Tensor'>\n",
            "<class 'torch.Tensor'>\n",
            "torch.float32\n",
            "torch.int64\n",
            "<class 'torch.Tensor'>\n",
            "<class 'torch.Tensor'>\n",
            "torch.float32\n",
            "torch.int64\n",
            "tensor(2.1193)\n"
          ],
          "name": "stdout"
        }
      ]
    },
    {
      "metadata": {
        "id": "Lmb-Pq-tRWE0",
        "colab_type": "text"
      },
      "cell_type": "markdown",
      "source": [
        "## 負の対数尤度損失\n",
        "\n",
        "\n",
        "```\n",
        "class torch.nn.NLLLoss(weight=None, size_average=True, ignore_index=-100, reduce=True)\n",
        "```\n",
        "\n",
        "分類問題をCのクラスで訓練すると便利です"
      ]
    },
    {
      "metadata": {
        "id": "_WsvalSK4pA6",
        "colab_type": "code",
        "colab": {
          "base_uri": "https://localhost:8080/",
          "height": 70
        },
        "outputId": "ed2f621c-86c7-49fd-b5a2-cf13175650b3"
      },
      "cell_type": "code",
      "source": [
        "m = nn.LogSoftmax()\n",
        "loss = nn.NLLLoss()\n",
        "# input is of size N x C = 3 x 5\n",
        "input = torch.randn(3, 5, requires_grad=True)\n",
        "# each element in target has to have 0 <= value < C\n",
        "target = torch.tensor([1, 0, 4])\n",
        "output = loss(m(input), target)\n",
        "output.backward()"
      ],
      "execution_count": 0,
      "outputs": [
        {
          "output_type": "stream",
          "text": [
            "/usr/local/lib/python3.6/dist-packages/ipykernel_launcher.py:7: UserWarning: Implicit dimension choice for log_softmax has been deprecated. Change the call to include dim=X as an argument.\n",
            "  import sys\n"
          ],
          "name": "stderr"
        }
      ]
    },
    {
      "metadata": {
        "id": "3Tulj8Nq4o8O",
        "colab_type": "code",
        "colab": {}
      },
      "cell_type": "code",
      "source": [
        "# # 2D loss example (used, for example, with image inputs)\n",
        "# N, C = 5, 4\n",
        "# loss = nn.NLLLoss()\n",
        "# # input is of size N x C x height x width\n",
        "# data = torch.randn(N, 16, 10, 10)\n",
        "# m = nn.Conv2d(16, C, (3, 3))\n",
        "# # each element in target has to have 0 <= value < C\n",
        "# target = torch.tensor([N, 8, 8]).random_(0, C)\n",
        "# output = loss(m(data), target)\n",
        "# output.backward()"
      ],
      "execution_count": 0,
      "outputs": []
    },
    {
      "metadata": {
        "id": "NT6ycVJhU3L_",
        "colab_type": "text"
      },
      "cell_type": "markdown",
      "source": [
        "## SigmoidレイヤーとBCELossを1つのクラスにまとめたもの\n",
        "\n",
        "```\n",
        "class torch.nn.BCEWithLogitsLoss(weight=None, size_average=True, reduce=True)\n",
        "```"
      ]
    },
    {
      "metadata": {
        "id": "3Zcs2JGyU0Ot",
        "colab_type": "code",
        "colab": {}
      },
      "cell_type": "code",
      "source": [
        ""
      ],
      "execution_count": 0,
      "outputs": []
    },
    {
      "metadata": {
        "id": "D8rpMA_6VJzz",
        "colab_type": "text"
      },
      "cell_type": "markdown",
      "source": [
        "## マルチラベルの1対全損失を最適化\n",
        "\n",
        "\n",
        "```\n",
        "class torch.nn.MultiLabelSoftMarginLoss(weight=None, size_average=True, reduce=True)\n",
        "```"
      ]
    },
    {
      "metadata": {
        "id": "NH08irHhVcNs",
        "colab_type": "text"
      },
      "cell_type": "markdown",
      "source": [
        "# ビジョンレイヤー"
      ]
    },
    {
      "metadata": {
        "id": "R0tX3sZ-Viv0",
        "colab_type": "text"
      },
      "cell_type": "markdown",
      "source": [
        "## \n",
        "\n",
        "```\n",
        "class torch.nn.PixelShuffle(upscale_factor)\n",
        "```"
      ]
    },
    {
      "metadata": {
        "id": "qG-p1SAKU0I2",
        "colab_type": "code",
        "colab": {
          "base_uri": "https://localhost:8080/",
          "height": 34
        },
        "outputId": "daadeaea-c0ef-44b5-f28d-6df5b6ace902"
      },
      "cell_type": "code",
      "source": [
        "ps = nn.PixelShuffle(3)\n",
        "input = torch.Tensor(1, 9, 4, 4)\n",
        "output = ps(input)\n",
        "print(output.size())"
      ],
      "execution_count": 0,
      "outputs": [
        {
          "output_type": "stream",
          "text": [
            "torch.Size([1, 1, 12, 12])\n"
          ],
          "name": "stdout"
        }
      ]
    },
    {
      "metadata": {
        "id": "1rw0PRDnU0DP",
        "colab_type": "code",
        "colab": {
          "base_uri": "https://localhost:8080/",
          "height": 50
        },
        "outputId": "fa58ddd1-610f-4c6e-ade2-22cbee21b461"
      },
      "cell_type": "code",
      "source": [
        "print(torch.tensor([[[1., 2, 3, 4, 5, 6, 7, 8]]]))\n",
        "print(torch.Tensor([[[1., 2, 3, 4, 5, 6, 7, 8]]]))"
      ],
      "execution_count": 0,
      "outputs": [
        {
          "output_type": "stream",
          "text": [
            "tensor([[[ 1.,  2.,  3.,  4.,  5.,  6.,  7.,  8.]]])\n",
            "tensor([[[ 1.,  2.,  3.,  4.,  5.,  6.,  7.,  8.]]])\n"
          ],
          "name": "stdout"
        }
      ]
    },
    {
      "metadata": {
        "id": "_wib6IkRdZvC",
        "colab_type": "text"
      },
      "cell_type": "markdown",
      "source": [
        "## アップサンプリングする\n",
        "\n",
        "所定のマルチチャンネル1D、2D、3Dデータをアップサンプリングします。\n",
        "ConvTranspose2dと違い重みとバイアスがない。\n",
        "\n",
        "入力データは、minibatch x channels x [任意の深度] x [オプションの高さ] x widthの形式であると仮定されます。したがって、空間入力の場合は4Dテンソルが、ボリューム入力の場合は5Dテンソルが必要です。 アップサンプリングに利用可能なアルゴリズムは、それぞれ3D、4Dおよび5D入力Tensorに対して最も近い近傍およびlinear、bilinearおよびtrilinearである。\n",
        "\n",
        "\n",
        "\n",
        "```\n",
        "class torch.nn.Upsample(size=None, scale_factor=None, mode='nearest', align_corners=None)\n",
        "```\n",
        "\n",
        "\n",
        "input：入力テンソル    \n",
        "size：出力空間サイズ    \n",
        "scale_factor：空間サイズの乗数。（整数）    \n",
        "mode：モード‘nearest’ | ‘linear’ | ‘bilinear’ | ‘trilinear’. Default: ‘nearest’    \n",
        "align_corners：Trueの場合、入力および出力テンソルのコーナーピクセルが整列され、そのピクセルの値が保持される。モードがlinear、bilinear、またはtrilinearの場合にのみ有効。デフォルト：False    \n",
        "\n",
        "\n",
        "\n",
        "https://github.com/pytorch/pytorch/pull/5927\n",
        "\n",
        "\n",
        "\n"
      ]
    },
    {
      "metadata": {
        "id": "lG1K0nzeV-tw",
        "colab_type": "text"
      },
      "cell_type": "markdown",
      "source": [
        "### linearモードでalign_corners=False"
      ]
    },
    {
      "metadata": {
        "id": "APTostG_QLQj",
        "colab_type": "code",
        "colab": {
          "base_uri": "https://localhost:8080/",
          "height": 35
        },
        "outputId": "5a326595-22e7-4e1c-f3b2-4724eaa3a61a"
      },
      "cell_type": "code",
      "source": [
        "input = torch.arange(1, 3).view(1, 1, 2)\n",
        "input"
      ],
      "execution_count": 17,
      "outputs": [
        {
          "output_type": "execute_result",
          "data": {
            "text/plain": [
              "tensor([[[ 1.,  2.]]])"
            ]
          },
          "metadata": {
            "tags": []
          },
          "execution_count": 17
        }
      ]
    },
    {
      "metadata": {
        "id": "strbTOwUQwW1",
        "colab_type": "code",
        "colab": {
          "base_uri": "https://localhost:8080/",
          "height": 35
        },
        "outputId": "155c6700-11b6-4640-a1a5-7053ae77c526"
      },
      "cell_type": "code",
      "source": [
        "m = nn.Upsample(scale_factor=2, mode='linear', align_corners=False)\n",
        "m(input)"
      ],
      "execution_count": 18,
      "outputs": [
        {
          "output_type": "execute_result",
          "data": {
            "text/plain": [
              "tensor([[[ 1.0000,  1.2500,  1.7500,  2.0000]]])"
            ]
          },
          "metadata": {
            "tags": []
          },
          "execution_count": 18
        }
      ]
    },
    {
      "metadata": {
        "id": "BFfm2lnwVDqH",
        "colab_type": "code",
        "colab": {
          "base_uri": "https://localhost:8080/",
          "height": 35
        },
        "outputId": "d3c14f1c-1a68-48b3-fd92-b434e0f07668"
      },
      "cell_type": "code",
      "source": [
        "m = nn.Upsample(scale_factor=3, mode='linear', align_corners=False)\n",
        "m(input)"
      ],
      "execution_count": 19,
      "outputs": [
        {
          "output_type": "execute_result",
          "data": {
            "text/plain": [
              "tensor([[[ 1.0000,  1.0000,  1.3333,  1.6667,  2.0000,  2.0000]]])"
            ]
          },
          "metadata": {
            "tags": []
          },
          "execution_count": 19
        }
      ]
    },
    {
      "metadata": {
        "id": "-wvypEwhVmFz",
        "colab_type": "code",
        "colab": {
          "base_uri": "https://localhost:8080/",
          "height": 52
        },
        "outputId": "0e5da812-210b-4f2c-c6e1-dfde40e2510c"
      },
      "cell_type": "code",
      "source": [
        "m = nn.Upsample(scale_factor=4, mode='linear', align_corners=False)\n",
        "m(input)"
      ],
      "execution_count": 20,
      "outputs": [
        {
          "output_type": "execute_result",
          "data": {
            "text/plain": [
              "tensor([[[ 1.0000,  1.0000,  1.1250,  1.3750,  1.6250,  1.8750,  2.0000,\n",
              "           2.0000]]])"
            ]
          },
          "metadata": {
            "tags": []
          },
          "execution_count": 20
        }
      ]
    },
    {
      "metadata": {
        "id": "jGH7wIL-WIyW",
        "colab_type": "text"
      },
      "cell_type": "markdown",
      "source": [
        "### linearモードでalign_corners=True"
      ]
    },
    {
      "metadata": {
        "id": "bAKO1xCOWuU_",
        "colab_type": "code",
        "colab": {
          "base_uri": "https://localhost:8080/",
          "height": 52
        },
        "outputId": "b1a9937a-f51f-4982-9877-8bde45cc154c"
      },
      "cell_type": "code",
      "source": [
        "input = torch.arange(1, 3).view(1, 1, 2)\n",
        "print(input)\n",
        "print(input.shape)"
      ],
      "execution_count": 17,
      "outputs": [
        {
          "output_type": "stream",
          "text": [
            "tensor([[[ 1.,  2.]]])\n",
            "torch.Size([1, 1, 2])\n"
          ],
          "name": "stdout"
        }
      ]
    },
    {
      "metadata": {
        "id": "RNCVWWOZWM-b",
        "colab_type": "code",
        "colab": {
          "base_uri": "https://localhost:8080/",
          "height": 35
        },
        "outputId": "f8773bf1-705a-46bb-ba68-2eedcda868a7"
      },
      "cell_type": "code",
      "source": [
        "m = nn.Upsample(scale_factor=2, mode='linear', align_corners=True)\n",
        "m(input)"
      ],
      "execution_count": 31,
      "outputs": [
        {
          "output_type": "execute_result",
          "data": {
            "text/plain": [
              "tensor([[[ 1.0000,  1.3333,  1.6667,  2.0000]]])"
            ]
          },
          "metadata": {
            "tags": []
          },
          "execution_count": 31
        }
      ]
    },
    {
      "metadata": {
        "id": "nKb9a3FyWQ0h",
        "colab_type": "code",
        "colab": {
          "base_uri": "https://localhost:8080/",
          "height": 35
        },
        "outputId": "78d50e3a-19bc-4294-c1ec-0e20d7256757"
      },
      "cell_type": "code",
      "source": [
        "m = nn.Upsample(scale_factor=3, mode='linear', align_corners=True)\n",
        "m(input)"
      ],
      "execution_count": 29,
      "outputs": [
        {
          "output_type": "execute_result",
          "data": {
            "text/plain": [
              "tensor([[[ 1.0000,  1.2000,  1.4000,  1.6000,  1.8000,  2.0000]]])"
            ]
          },
          "metadata": {
            "tags": []
          },
          "execution_count": 29
        }
      ]
    },
    {
      "metadata": {
        "id": "ctogJ9gkVvCQ",
        "colab_type": "code",
        "colab": {
          "base_uri": "https://localhost:8080/",
          "height": 52
        },
        "outputId": "430bea7d-7a19-40dc-9900-d65c819248af"
      },
      "cell_type": "code",
      "source": [
        "m = nn.Upsample(scale_factor=4, mode='linear', align_corners=True)\n",
        "m(input)"
      ],
      "execution_count": 26,
      "outputs": [
        {
          "output_type": "execute_result",
          "data": {
            "text/plain": [
              "tensor([[[ 1.0000,  1.1429,  1.2857,  1.4286,  1.5714,  1.7143,  1.8571,\n",
              "           2.0000]]])"
            ]
          },
          "metadata": {
            "tags": []
          },
          "execution_count": 26
        }
      ]
    },
    {
      "metadata": {
        "id": "xsBVfk2Y-_mL",
        "colab_type": "text"
      },
      "cell_type": "markdown",
      "source": [
        "### nearestモードでalign_corners=False\n"
      ]
    },
    {
      "metadata": {
        "id": "FjuxSfaj4orn",
        "colab_type": "code",
        "colab": {
          "base_uri": "https://localhost:8080/",
          "height": 69
        },
        "outputId": "754a52e4-6f03-402c-b181-f243659a571b"
      },
      "cell_type": "code",
      "source": [
        "input = torch.arange(1, 5).view(1, 1, 2, 2)\n",
        "print(input)\n",
        "print(input.shape)"
      ],
      "execution_count": 8,
      "outputs": [
        {
          "output_type": "stream",
          "text": [
            "tensor([[[[ 1.,  2.],\n",
            "          [ 3.,  4.]]]])\n",
            "torch.Size([1, 1, 2, 2])\n"
          ],
          "name": "stdout"
        }
      ]
    },
    {
      "metadata": {
        "id": "el3lrZ_N4omU",
        "colab_type": "code",
        "colab": {
          "base_uri": "https://localhost:8080/",
          "height": 104
        },
        "outputId": "fed74b87-4bee-4640-cd22-180240f75fbb"
      },
      "cell_type": "code",
      "source": [
        "m = nn.Upsample(scale_factor=2, mode='nearest')\n",
        "print(m(input))\n",
        "print(m(input).shape)"
      ],
      "execution_count": 9,
      "outputs": [
        {
          "output_type": "stream",
          "text": [
            "tensor([[[[ 1.,  1.,  2.,  2.],\n",
            "          [ 1.,  1.,  2.,  2.],\n",
            "          [ 3.,  3.,  4.,  4.],\n",
            "          [ 3.,  3.,  4.,  4.]]]])\n",
            "torch.Size([1, 1, 4, 4])\n"
          ],
          "name": "stdout"
        }
      ]
    },
    {
      "metadata": {
        "id": "q8e__Vca_NOj",
        "colab_type": "text"
      },
      "cell_type": "markdown",
      "source": [
        "### bilinearモードでalign_corners=False：2*2"
      ]
    },
    {
      "metadata": {
        "id": "K1_b1usFBmAB",
        "colab_type": "code",
        "colab": {
          "base_uri": "https://localhost:8080/",
          "height": 71
        },
        "outputId": "ae35de5c-2975-4c50-f55e-17720edff745"
      },
      "cell_type": "code",
      "source": [
        "input = torch.arange(1, 5).view(1, 1, 2, 2)\n",
        "print(input)\n",
        "print(input.shape)"
      ],
      "execution_count": 3,
      "outputs": [
        {
          "output_type": "stream",
          "text": [
            "tensor([[[[ 1.,  2.],\n",
            "          [ 3.,  4.]]]])\n",
            "torch.Size([1, 1, 2, 2])\n"
          ],
          "name": "stdout"
        }
      ]
    },
    {
      "metadata": {
        "id": "7jUdmPDT4ohl",
        "colab_type": "code",
        "colab": {
          "base_uri": "https://localhost:8080/",
          "height": 104
        },
        "outputId": "2401e5ea-495b-4d84-f102-de0c0dc169be"
      },
      "cell_type": "code",
      "source": [
        "m = nn.Upsample(scale_factor=2, mode='bilinear', align_corners=False)\n",
        "print(m(input))\n",
        "print(m(input).shape)"
      ],
      "execution_count": 10,
      "outputs": [
        {
          "output_type": "stream",
          "text": [
            "tensor([[[[ 1.0000,  1.2500,  1.7500,  2.0000],\n",
            "          [ 1.5000,  1.7500,  2.2500,  2.5000],\n",
            "          [ 2.5000,  2.7500,  3.2500,  3.5000],\n",
            "          [ 3.0000,  3.2500,  3.7500,  4.0000]]]])\n",
            "torch.Size([1, 1, 4, 4])\n"
          ],
          "name": "stdout"
        }
      ]
    },
    {
      "metadata": {
        "id": "H4W27pIi_dod",
        "colab_type": "text"
      },
      "cell_type": "markdown",
      "source": [
        "### bilinearモードでalign_corners=True：2*2"
      ]
    },
    {
      "metadata": {
        "id": "0ESmKj0Ddqav",
        "colab_type": "code",
        "colab": {
          "base_uri": "https://localhost:8080/",
          "height": 104
        },
        "outputId": "4dd74218-85df-437f-e604-2c6911d01828"
      },
      "cell_type": "code",
      "source": [
        "m = nn.Upsample(scale_factor=2, mode='bilinear', align_corners=True)\n",
        "print(m(input))\n",
        "print(m(input).shape)"
      ],
      "execution_count": 21,
      "outputs": [
        {
          "output_type": "stream",
          "text": [
            "tensor([[[[ 1.0000,  1.3333,  1.6667,  2.0000],\n",
            "          [ 1.6667,  2.0000,  2.3333,  2.6667],\n",
            "          [ 2.3333,  2.6667,  3.0000,  3.3333],\n",
            "          [ 3.0000,  3.3333,  3.6667,  4.0000]]]])\n",
            "torch.Size([1, 1, 4, 4])\n"
          ],
          "name": "stdout"
        }
      ]
    },
    {
      "metadata": {
        "id": "c4LT9lQgB1nq",
        "colab_type": "text"
      },
      "cell_type": "markdown",
      "source": [
        "### bilinearモードでalign_corners=False：3*3"
      ]
    },
    {
      "metadata": {
        "id": "t0aQd0u5dq9c",
        "colab_type": "code",
        "colab": {
          "base_uri": "https://localhost:8080/",
          "height": 52
        },
        "outputId": "96ca463e-0387-42ba-9d22-ca3d088f4e97"
      },
      "cell_type": "code",
      "source": [
        "input_3x3 = torch.zeros(3, 3).view(1, 1, 3, 3)\n",
        "input_3x3[:, :, :2, :2].copy_(input)"
      ],
      "execution_count": 12,
      "outputs": [
        {
          "output_type": "execute_result",
          "data": {
            "text/plain": [
              "tensor([[[[ 1.,  2.],\n",
              "          [ 3.,  4.]]]])"
            ]
          },
          "metadata": {
            "tags": []
          },
          "execution_count": 12
        }
      ]
    },
    {
      "metadata": {
        "id": "PF0T8bc8dq26",
        "colab_type": "code",
        "colab": {
          "base_uri": "https://localhost:8080/",
          "height": 86
        },
        "outputId": "d7a821ca-fe2a-43aa-a015-3af49748e640"
      },
      "cell_type": "code",
      "source": [
        "print(input_3x3)\n",
        "print(input_3x3.shape)"
      ],
      "execution_count": 13,
      "outputs": [
        {
          "output_type": "stream",
          "text": [
            "tensor([[[[ 1.,  2.,  0.],\n",
            "          [ 3.,  4.,  0.],\n",
            "          [ 0.,  0.,  0.]]]])\n",
            "torch.Size([1, 1, 3, 3])\n"
          ],
          "name": "stdout"
        }
      ]
    },
    {
      "metadata": {
        "id": "HRazVDP4dqx1",
        "colab_type": "code",
        "colab": {
          "base_uri": "https://localhost:8080/",
          "height": 138
        },
        "outputId": "802e7506-2e63-4223-a1f1-a7ac0dfbe3e0"
      },
      "cell_type": "code",
      "source": [
        "m = nn.Upsample(scale_factor=2, mode='bilinear', align_corners=False)\n",
        "#左上隅の値は小さな入力と同じです（境界を除く）\n",
        "print(m(input_3x3))\n",
        "print(m(input_3x3).shape)"
      ],
      "execution_count": 15,
      "outputs": [
        {
          "output_type": "stream",
          "text": [
            "tensor([[[[ 1.0000,  1.2500,  1.7500,  1.5000,  0.5000,  0.0000],\n",
            "          [ 1.5000,  1.7500,  2.2500,  1.8750,  0.6250,  0.0000],\n",
            "          [ 2.5000,  2.7500,  3.2500,  2.6250,  0.8750,  0.0000],\n",
            "          [ 2.2500,  2.4375,  2.8125,  2.2500,  0.7500,  0.0000],\n",
            "          [ 0.7500,  0.8125,  0.9375,  0.7500,  0.2500,  0.0000],\n",
            "          [ 0.0000,  0.0000,  0.0000,  0.0000,  0.0000,  0.0000]]]])\n",
            "torch.Size([1, 1, 6, 6])\n"
          ],
          "name": "stdout"
        }
      ]
    },
    {
      "metadata": {
        "id": "KFBi1FKWB6cH",
        "colab_type": "text"
      },
      "cell_type": "markdown",
      "source": [
        "### bilinearモードでalign_corners=False：3*3"
      ]
    },
    {
      "metadata": {
        "id": "b2B9mhogdqtU",
        "colab_type": "code",
        "colab": {
          "base_uri": "https://localhost:8080/",
          "height": 121
        },
        "outputId": "9abc49bc-6ba5-4be4-cce2-e41a188dfe38"
      },
      "cell_type": "code",
      "source": [
        "m = nn.Upsample(scale_factor=2, mode='bilinear', align_corners=True)\n",
        "# 左上隅の値が変更されていることに注目してください\n",
        "m(input_3x3)"
      ],
      "execution_count": 16,
      "outputs": [
        {
          "output_type": "execute_result",
          "data": {
            "text/plain": [
              "tensor([[[[ 1.0000,  1.4000,  1.8000,  1.6000,  0.8000,  0.0000],\n",
              "          [ 1.8000,  2.2000,  2.6000,  2.2400,  1.1200,  0.0000],\n",
              "          [ 2.6000,  3.0000,  3.4000,  2.8800,  1.4400,  0.0000],\n",
              "          [ 2.4000,  2.7200,  3.0400,  2.5600,  1.2800,  0.0000],\n",
              "          [ 1.2000,  1.3600,  1.5200,  1.2800,  0.6400,  0.0000],\n",
              "          [ 0.0000,  0.0000,  0.0000,  0.0000,  0.0000,  0.0000]]]])"
            ]
          },
          "metadata": {
            "tags": []
          },
          "execution_count": 16
        }
      ]
    },
    {
      "metadata": {
        "id": "nlE0px1Hd6wA",
        "colab_type": "text"
      },
      "cell_type": "markdown",
      "source": [
        "## 2D最近傍アップサンプリング\n",
        "\n",
        "```\n",
        "class torch.nn.UpsamplingNearest2d(size=None, scale_factor=None)\n",
        "```"
      ]
    },
    {
      "metadata": {
        "id": "f1XM52MCd15K",
        "colab_type": "code",
        "colab": {
          "base_uri": "https://localhost:8080/",
          "height": 50
        },
        "outputId": "02c080d9-9ebd-4bb8-f88f-376aee5bb9d6"
      },
      "cell_type": "code",
      "source": [
        "input = torch.arange(1, 5).view(1, 1, 2, 2)\n",
        "input"
      ],
      "execution_count": 0,
      "outputs": [
        {
          "output_type": "execute_result",
          "data": {
            "text/plain": [
              "tensor([[[[ 1.,  2.],\n",
              "          [ 3.,  4.]]]])"
            ]
          },
          "metadata": {
            "tags": []
          },
          "execution_count": 29
        }
      ]
    },
    {
      "metadata": {
        "id": "Sgl5VMwOd2E4",
        "colab_type": "code",
        "colab": {
          "base_uri": "https://localhost:8080/",
          "height": 138
        },
        "outputId": "add64370-3dfd-467c-b8ea-749134f4cb3a"
      },
      "cell_type": "code",
      "source": [
        "m = nn.UpsamplingNearest2d(scale_factor=2)\n",
        "m(input)"
      ],
      "execution_count": 0,
      "outputs": [
        {
          "output_type": "stream",
          "text": [
            "/usr/local/lib/python3.6/dist-packages/torch/nn/modules/upsampling.py:173: UserWarning: nn.UpsamplingNearest2d is deprecated. Use nn.Upsample instead.\n",
            "  warnings.warn(\"nn.UpsamplingNearest2d is deprecated. Use nn.Upsample instead.\")\n"
          ],
          "name": "stderr"
        },
        {
          "output_type": "execute_result",
          "data": {
            "text/plain": [
              "tensor([[[[ 1.,  1.,  2.,  2.],\n",
              "          [ 1.,  1.,  2.,  2.],\n",
              "          [ 3.,  3.,  4.,  4.],\n",
              "          [ 3.,  3.,  4.,  4.]]]])"
            ]
          },
          "metadata": {
            "tags": []
          },
          "execution_count": 30
        }
      ]
    },
    {
      "metadata": {
        "id": "w3XHA85Td2NT",
        "colab_type": "code",
        "colab": {}
      },
      "cell_type": "code",
      "source": [
        ""
      ],
      "execution_count": 0,
      "outputs": []
    },
    {
      "metadata": {
        "id": "o5ino9EEfgTZ",
        "colab_type": "text"
      },
      "cell_type": "markdown",
      "source": [
        "# データ並列層"
      ]
    },
    {
      "metadata": {
        "id": "3enVa0kHf-2N",
        "colab_type": "text"
      },
      "cell_type": "markdown",
      "source": [
        "## モジュールレベルでデータの並列処理\n",
        "\n",
        "```\n",
        "class torch.nn.DataParallel(module, device_ids=None, output_device=None, dim=0)\n",
        "```"
      ]
    },
    {
      "metadata": {
        "id": "NGmwtY0rd2jV",
        "colab_type": "code",
        "colab": {
          "base_uri": "https://localhost:8080/",
          "height": 84
        },
        "outputId": "80b51a63-5cf3-457c-a0e0-d4d54e281a44"
      },
      "cell_type": "code",
      "source": [
        "import torch.nn as nn\n",
        "import torch.nn.functional as F\n",
        "\n",
        "class Model(nn.Module):\n",
        "    def __init__(self):\n",
        "        super(Model, self).__init__()\n",
        "        self.conv1 = nn.Conv2d(1, 20, 5)\n",
        "        self.conv2 = nn.Conv2d(20, 20, 5)\n",
        "\n",
        "    def forward(self, x):\n",
        "        x = F.relu(self.conv1(x))\n",
        "        return F.relu(self.conv2(x))\n",
        "net = Model()\n",
        "net.cuda() #add"
      ],
      "execution_count": 0,
      "outputs": [
        {
          "output_type": "execute_result",
          "data": {
            "text/plain": [
              "Model(\n",
              "  (conv1): Conv2d(1, 20, kernel_size=(5, 5), stride=(1, 1))\n",
              "  (conv2): Conv2d(20, 20, kernel_size=(5, 5), stride=(1, 1))\n",
              ")"
            ]
          },
          "metadata": {
            "tags": []
          },
          "execution_count": 34
        }
      ]
    },
    {
      "metadata": {
        "id": "7yg7ONstd2Yo",
        "colab_type": "code",
        "colab": {}
      },
      "cell_type": "code",
      "source": [
        "net = torch.nn.DataParallel(net, device_ids=[0])\n",
        "# net = torch.nn.DataParallel(net, device_ids=[0, 1, 2, 3])"
      ],
      "execution_count": 0,
      "outputs": []
    },
    {
      "metadata": {
        "id": "Uum0UVYSd2t5",
        "colab_type": "code",
        "colab": {
          "base_uri": "https://localhost:8080/",
          "height": 34
        },
        "outputId": "3311381f-93eb-48eb-9b28-9ba16aa5ee5d"
      },
      "cell_type": "code",
      "source": [
        "input = torch.randn(20, 1, 28, 28)\n",
        "output = net(input)\n",
        "print(output.size())"
      ],
      "execution_count": 0,
      "outputs": [
        {
          "output_type": "stream",
          "text": [
            "torch.Size([20, 20, 20, 20])\n"
          ],
          "name": "stdout"
        }
      ]
    },
    {
      "metadata": {
        "id": "YwqshzLukj_m",
        "colab_type": "text"
      },
      "cell_type": "markdown",
      "source": [
        "## モジュールレベルで分散データ並列処理\n",
        "\n",
        "この分散まで書くかは検討する\n",
        "\n",
        "\n",
        "```\n",
        "class torch.nn.parallel.DistributedDataParallel(module, device_ids=None, output_device=None, dim=0, broadcast_buffers=True)\n",
        "```"
      ]
    },
    {
      "metadata": {
        "id": "npqEJPW7lD7t",
        "colab_type": "code",
        "colab": {}
      },
      "cell_type": "code",
      "source": [
        "# import torch.nn as nn\n",
        "# import torch.nn.functional as F\n",
        "\n",
        "# class Model(nn.Module):\n",
        "#     def __init__(self):\n",
        "#         super(Model, self).__init__()\n",
        "#         self.conv1 = nn.Conv2d(1, 20, 5)\n",
        "#         self.conv2 = nn.Conv2d(20, 20, 5)\n",
        "\n",
        "#     def forward(self, x):\n",
        "#         x = F.relu(self.conv1(x))\n",
        "#         return F.relu(self.conv2(x))\n",
        "# net = Model()\n",
        "# net.cuda() #add"
      ],
      "execution_count": 0,
      "outputs": []
    },
    {
      "metadata": {
        "id": "frd6wqnEd26M",
        "colab_type": "code",
        "colab": {}
      },
      "cell_type": "code",
      "source": [
        "# torch.distributed.init_process_group(backend=\"tcp\")\n",
        "# net = torch.nn.DistributedDataParallel(net)"
      ],
      "execution_count": 0,
      "outputs": []
    },
    {
      "metadata": {
        "id": "K1dPPPo94oby",
        "colab_type": "code",
        "colab": {}
      },
      "cell_type": "code",
      "source": [
        ""
      ],
      "execution_count": 0,
      "outputs": []
    },
    {
      "metadata": {
        "id": "1VMpRmGuwul_",
        "colab_type": "code",
        "colab": {}
      },
      "cell_type": "code",
      "source": [
        ""
      ],
      "execution_count": 0,
      "outputs": []
    },
    {
      "metadata": {
        "id": "u0CqXgDRnD7O",
        "colab_type": "code",
        "colab": {}
      },
      "cell_type": "code",
      "source": [
        ""
      ],
      "execution_count": 0,
      "outputs": []
    },
    {
      "metadata": {
        "id": "dNIgz9ERVRpk",
        "colab_type": "code",
        "colab": {}
      },
      "cell_type": "code",
      "source": [
        ""
      ],
      "execution_count": 0,
      "outputs": []
    },
    {
      "metadata": {
        "id": "J3A70N6NVYO-",
        "colab_type": "code",
        "colab": {}
      },
      "cell_type": "code",
      "source": [
        ""
      ],
      "execution_count": 0,
      "outputs": []
    },
    {
      "metadata": {
        "id": "8t3jIV0wVr6r",
        "colab_type": "code",
        "colab": {}
      },
      "cell_type": "code",
      "source": [
        ""
      ],
      "execution_count": 0,
      "outputs": []
    },
    {
      "metadata": {
        "id": "oARPDmVIVeBb",
        "colab_type": "code",
        "colab": {}
      },
      "cell_type": "code",
      "source": [
        ""
      ],
      "execution_count": 0,
      "outputs": []
    }
  ]
}